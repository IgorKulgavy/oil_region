{
 "cells": [
  {
   "cell_type": "markdown",
   "metadata": {},
   "source": [
    "# Выбор локации для скважины"
   ]
  },
  {
   "cell_type": "markdown",
   "metadata": {},
   "source": [
    "Допустим, вы работаете в добывающей компании «ГлавРосГосНефть». Нужно решить, где бурить новую скважину.\n",
    "\n",
    "Вам предоставлены пробы нефти в трёх регионах: в каждом 10 000 месторождений, где измерили качество нефти и объём её запасов. \n",
    "Задача:\n",
    "- Построить модель машинного обучения, которая поможет определить регион, где добыча принесёт наибольшую прибыль.\n",
    "- Проанализировать возможную прибыль и риски техникой *Bootstrap.*\n",
    "\n",
    "Шаги для выбора локации:\n",
    "\n",
    "- В избранном регионе ищут месторождения, для каждого определяют значения признаков;\n",
    "- Строят модель и оценивают объём запасов;\n",
    "- Выбирают месторождения с самым высокими оценками значений. Количество месторождений зависит от бюджета компании и стоимости разработки одной скважины;\n",
    "- Прибыль равна суммарной прибыли отобранных месторождений.\n",
    "\n",
    "Описание данных:\n",
    "\n",
    "- 3 датасета с данными геологоразведки;\n",
    "- id — уникальный идентификатор скважины;\n",
    "- f0, f1, f2 — три признака точек;\n",
    "- product — объём запасов в скважине (тыс. баррелей)."
   ]
  },
  {
   "cell_type": "markdown",
   "metadata": {},
   "source": [
    "## Загрузка и подготовка данных"
   ]
  },
  {
   "cell_type": "code",
   "execution_count": 1,
   "metadata": {},
   "outputs": [],
   "source": [
    "import pandas as pd\n",
    "from sklearn.model_selection import train_test_split\n",
    "from sklearn.linear_model import LinearRegression\n",
    "\n",
    "from sklearn.metrics import mean_squared_error\n",
    "import math\n",
    "import numpy as np\n",
    "from scipy import stats as st"
   ]
  },
  {
   "cell_type": "markdown",
   "metadata": {},
   "source": [
    "Загрузка датасетов."
   ]
  },
  {
   "cell_type": "code",
   "execution_count": 2,
   "metadata": {},
   "outputs": [],
   "source": [
    "df_1 = pd.read_csv('/datasets/geo_data_0.csv')\n",
    "df_2 = pd.read_csv('/datasets/geo_data_1.csv')\n",
    "df_3 = pd.read_csv('/datasets/geo_data_2.csv')"
   ]
  },
  {
   "cell_type": "markdown",
   "metadata": {},
   "source": [
    "Открываю данные. Анализ."
   ]
  },
  {
   "cell_type": "code",
   "execution_count": 3,
   "metadata": {},
   "outputs": [
    {
     "data": {
      "text/html": [
       "<div>\n",
       "<style scoped>\n",
       "    .dataframe tbody tr th:only-of-type {\n",
       "        vertical-align: middle;\n",
       "    }\n",
       "\n",
       "    .dataframe tbody tr th {\n",
       "        vertical-align: top;\n",
       "    }\n",
       "\n",
       "    .dataframe thead th {\n",
       "        text-align: right;\n",
       "    }\n",
       "</style>\n",
       "<table border=\"1\" class=\"dataframe\">\n",
       "  <thead>\n",
       "    <tr style=\"text-align: right;\">\n",
       "      <th></th>\n",
       "      <th>id</th>\n",
       "      <th>f0</th>\n",
       "      <th>f1</th>\n",
       "      <th>f2</th>\n",
       "      <th>product</th>\n",
       "    </tr>\n",
       "  </thead>\n",
       "  <tbody>\n",
       "    <tr>\n",
       "      <th>0</th>\n",
       "      <td>txEyH</td>\n",
       "      <td>0.705745</td>\n",
       "      <td>-0.497823</td>\n",
       "      <td>1.221170</td>\n",
       "      <td>105.280062</td>\n",
       "    </tr>\n",
       "    <tr>\n",
       "      <th>1</th>\n",
       "      <td>2acmU</td>\n",
       "      <td>1.334711</td>\n",
       "      <td>-0.340164</td>\n",
       "      <td>4.365080</td>\n",
       "      <td>73.037750</td>\n",
       "    </tr>\n",
       "    <tr>\n",
       "      <th>2</th>\n",
       "      <td>409Wp</td>\n",
       "      <td>1.022732</td>\n",
       "      <td>0.151990</td>\n",
       "      <td>1.419926</td>\n",
       "      <td>85.265647</td>\n",
       "    </tr>\n",
       "    <tr>\n",
       "      <th>3</th>\n",
       "      <td>iJLyR</td>\n",
       "      <td>-0.032172</td>\n",
       "      <td>0.139033</td>\n",
       "      <td>2.978566</td>\n",
       "      <td>168.620776</td>\n",
       "    </tr>\n",
       "    <tr>\n",
       "      <th>4</th>\n",
       "      <td>Xdl7t</td>\n",
       "      <td>1.988431</td>\n",
       "      <td>0.155413</td>\n",
       "      <td>4.751769</td>\n",
       "      <td>154.036647</td>\n",
       "    </tr>\n",
       "    <tr>\n",
       "      <th>...</th>\n",
       "      <td>...</td>\n",
       "      <td>...</td>\n",
       "      <td>...</td>\n",
       "      <td>...</td>\n",
       "      <td>...</td>\n",
       "    </tr>\n",
       "    <tr>\n",
       "      <th>99995</th>\n",
       "      <td>DLsed</td>\n",
       "      <td>0.971957</td>\n",
       "      <td>0.370953</td>\n",
       "      <td>6.075346</td>\n",
       "      <td>110.744026</td>\n",
       "    </tr>\n",
       "    <tr>\n",
       "      <th>99996</th>\n",
       "      <td>QKivN</td>\n",
       "      <td>1.392429</td>\n",
       "      <td>-0.382606</td>\n",
       "      <td>1.273912</td>\n",
       "      <td>122.346843</td>\n",
       "    </tr>\n",
       "    <tr>\n",
       "      <th>99997</th>\n",
       "      <td>3rnvd</td>\n",
       "      <td>1.029585</td>\n",
       "      <td>0.018787</td>\n",
       "      <td>-1.348308</td>\n",
       "      <td>64.375443</td>\n",
       "    </tr>\n",
       "    <tr>\n",
       "      <th>99998</th>\n",
       "      <td>7kl59</td>\n",
       "      <td>0.998163</td>\n",
       "      <td>-0.528582</td>\n",
       "      <td>1.583869</td>\n",
       "      <td>74.040764</td>\n",
       "    </tr>\n",
       "    <tr>\n",
       "      <th>99999</th>\n",
       "      <td>1CWhH</td>\n",
       "      <td>1.764754</td>\n",
       "      <td>-0.266417</td>\n",
       "      <td>5.722849</td>\n",
       "      <td>149.633246</td>\n",
       "    </tr>\n",
       "  </tbody>\n",
       "</table>\n",
       "<p>100000 rows × 5 columns</p>\n",
       "</div>"
      ],
      "text/plain": [
       "          id        f0        f1        f2     product\n",
       "0      txEyH  0.705745 -0.497823  1.221170  105.280062\n",
       "1      2acmU  1.334711 -0.340164  4.365080   73.037750\n",
       "2      409Wp  1.022732  0.151990  1.419926   85.265647\n",
       "3      iJLyR -0.032172  0.139033  2.978566  168.620776\n",
       "4      Xdl7t  1.988431  0.155413  4.751769  154.036647\n",
       "...      ...       ...       ...       ...         ...\n",
       "99995  DLsed  0.971957  0.370953  6.075346  110.744026\n",
       "99996  QKivN  1.392429 -0.382606  1.273912  122.346843\n",
       "99997  3rnvd  1.029585  0.018787 -1.348308   64.375443\n",
       "99998  7kl59  0.998163 -0.528582  1.583869   74.040764\n",
       "99999  1CWhH  1.764754 -0.266417  5.722849  149.633246\n",
       "\n",
       "[100000 rows x 5 columns]"
      ]
     },
     "execution_count": 3,
     "metadata": {},
     "output_type": "execute_result"
    }
   ],
   "source": [
    "df_1"
   ]
  },
  {
   "cell_type": "code",
   "execution_count": 4,
   "metadata": {},
   "outputs": [
    {
     "name": "stdout",
     "output_type": "stream",
     "text": [
      "<class 'pandas.core.frame.DataFrame'>\n",
      "RangeIndex: 100000 entries, 0 to 99999\n",
      "Data columns (total 5 columns):\n",
      " #   Column   Non-Null Count   Dtype  \n",
      "---  ------   --------------   -----  \n",
      " 0   id       100000 non-null  object \n",
      " 1   f0       100000 non-null  float64\n",
      " 2   f1       100000 non-null  float64\n",
      " 3   f2       100000 non-null  float64\n",
      " 4   product  100000 non-null  float64\n",
      "dtypes: float64(4), object(1)\n",
      "memory usage: 3.8+ MB\n"
     ]
    }
   ],
   "source": [
    "df_1.info()"
   ]
  },
  {
   "cell_type": "code",
   "execution_count": 5,
   "metadata": {},
   "outputs": [
    {
     "data": {
      "text/plain": [
       "0"
      ]
     },
     "execution_count": 5,
     "metadata": {},
     "output_type": "execute_result"
    }
   ],
   "source": [
    "df_1.duplicated().sum()"
   ]
  },
  {
   "cell_type": "code",
   "execution_count": 6,
   "metadata": {},
   "outputs": [
    {
     "data": {
      "text/html": [
       "<div>\n",
       "<style scoped>\n",
       "    .dataframe tbody tr th:only-of-type {\n",
       "        vertical-align: middle;\n",
       "    }\n",
       "\n",
       "    .dataframe tbody tr th {\n",
       "        vertical-align: top;\n",
       "    }\n",
       "\n",
       "    .dataframe thead th {\n",
       "        text-align: right;\n",
       "    }\n",
       "</style>\n",
       "<table border=\"1\" class=\"dataframe\">\n",
       "  <thead>\n",
       "    <tr style=\"text-align: right;\">\n",
       "      <th></th>\n",
       "      <th>id</th>\n",
       "      <th>f0</th>\n",
       "      <th>f1</th>\n",
       "      <th>f2</th>\n",
       "      <th>product</th>\n",
       "    </tr>\n",
       "  </thead>\n",
       "  <tbody>\n",
       "    <tr>\n",
       "      <th>931</th>\n",
       "      <td>HZww2</td>\n",
       "      <td>0.755284</td>\n",
       "      <td>0.368511</td>\n",
       "      <td>1.863211</td>\n",
       "      <td>30.681774</td>\n",
       "    </tr>\n",
       "    <tr>\n",
       "      <th>1364</th>\n",
       "      <td>bxg6G</td>\n",
       "      <td>0.411645</td>\n",
       "      <td>0.856830</td>\n",
       "      <td>-3.653440</td>\n",
       "      <td>73.604260</td>\n",
       "    </tr>\n",
       "    <tr>\n",
       "      <th>1949</th>\n",
       "      <td>QcMuo</td>\n",
       "      <td>0.506563</td>\n",
       "      <td>-0.323775</td>\n",
       "      <td>-2.215583</td>\n",
       "      <td>75.496502</td>\n",
       "    </tr>\n",
       "    <tr>\n",
       "      <th>3389</th>\n",
       "      <td>A5aEY</td>\n",
       "      <td>-0.039949</td>\n",
       "      <td>0.156872</td>\n",
       "      <td>0.209861</td>\n",
       "      <td>89.249364</td>\n",
       "    </tr>\n",
       "    <tr>\n",
       "      <th>7530</th>\n",
       "      <td>HZww2</td>\n",
       "      <td>1.061194</td>\n",
       "      <td>-0.373969</td>\n",
       "      <td>10.430210</td>\n",
       "      <td>158.828695</td>\n",
       "    </tr>\n",
       "    <tr>\n",
       "      <th>16633</th>\n",
       "      <td>fiKDv</td>\n",
       "      <td>0.157341</td>\n",
       "      <td>1.028359</td>\n",
       "      <td>5.585586</td>\n",
       "      <td>95.817889</td>\n",
       "    </tr>\n",
       "    <tr>\n",
       "      <th>21426</th>\n",
       "      <td>Tdehs</td>\n",
       "      <td>0.829407</td>\n",
       "      <td>0.298807</td>\n",
       "      <td>-0.049563</td>\n",
       "      <td>96.035308</td>\n",
       "    </tr>\n",
       "    <tr>\n",
       "      <th>41724</th>\n",
       "      <td>bxg6G</td>\n",
       "      <td>-0.823752</td>\n",
       "      <td>0.546319</td>\n",
       "      <td>3.630479</td>\n",
       "      <td>93.007798</td>\n",
       "    </tr>\n",
       "    <tr>\n",
       "      <th>42529</th>\n",
       "      <td>AGS9W</td>\n",
       "      <td>1.454747</td>\n",
       "      <td>-0.479651</td>\n",
       "      <td>0.683380</td>\n",
       "      <td>126.370504</td>\n",
       "    </tr>\n",
       "    <tr>\n",
       "      <th>51970</th>\n",
       "      <td>A5aEY</td>\n",
       "      <td>-0.180335</td>\n",
       "      <td>0.935548</td>\n",
       "      <td>-2.094773</td>\n",
       "      <td>33.020205</td>\n",
       "    </tr>\n",
       "    <tr>\n",
       "      <th>60140</th>\n",
       "      <td>TtcGQ</td>\n",
       "      <td>0.569276</td>\n",
       "      <td>-0.104876</td>\n",
       "      <td>6.440215</td>\n",
       "      <td>85.350186</td>\n",
       "    </tr>\n",
       "    <tr>\n",
       "      <th>63593</th>\n",
       "      <td>QcMuo</td>\n",
       "      <td>0.635635</td>\n",
       "      <td>-0.473422</td>\n",
       "      <td>0.862670</td>\n",
       "      <td>64.578675</td>\n",
       "    </tr>\n",
       "    <tr>\n",
       "      <th>64022</th>\n",
       "      <td>74z30</td>\n",
       "      <td>0.741456</td>\n",
       "      <td>0.459229</td>\n",
       "      <td>5.153109</td>\n",
       "      <td>140.771492</td>\n",
       "    </tr>\n",
       "    <tr>\n",
       "      <th>66136</th>\n",
       "      <td>74z30</td>\n",
       "      <td>1.084962</td>\n",
       "      <td>-0.312358</td>\n",
       "      <td>6.990771</td>\n",
       "      <td>127.643327</td>\n",
       "    </tr>\n",
       "    <tr>\n",
       "      <th>69163</th>\n",
       "      <td>AGS9W</td>\n",
       "      <td>-0.933795</td>\n",
       "      <td>0.116194</td>\n",
       "      <td>-3.655896</td>\n",
       "      <td>19.230453</td>\n",
       "    </tr>\n",
       "    <tr>\n",
       "      <th>75715</th>\n",
       "      <td>Tdehs</td>\n",
       "      <td>0.112079</td>\n",
       "      <td>0.430296</td>\n",
       "      <td>3.218993</td>\n",
       "      <td>60.964018</td>\n",
       "    </tr>\n",
       "    <tr>\n",
       "      <th>89582</th>\n",
       "      <td>bsk9y</td>\n",
       "      <td>0.398908</td>\n",
       "      <td>-0.400253</td>\n",
       "      <td>10.122376</td>\n",
       "      <td>163.433078</td>\n",
       "    </tr>\n",
       "    <tr>\n",
       "      <th>90815</th>\n",
       "      <td>fiKDv</td>\n",
       "      <td>0.049883</td>\n",
       "      <td>0.841313</td>\n",
       "      <td>6.394613</td>\n",
       "      <td>137.346586</td>\n",
       "    </tr>\n",
       "    <tr>\n",
       "      <th>92341</th>\n",
       "      <td>TtcGQ</td>\n",
       "      <td>0.110711</td>\n",
       "      <td>1.022689</td>\n",
       "      <td>0.911381</td>\n",
       "      <td>101.318008</td>\n",
       "    </tr>\n",
       "    <tr>\n",
       "      <th>97785</th>\n",
       "      <td>bsk9y</td>\n",
       "      <td>0.378429</td>\n",
       "      <td>0.005837</td>\n",
       "      <td>0.160827</td>\n",
       "      <td>160.637302</td>\n",
       "    </tr>\n",
       "  </tbody>\n",
       "</table>\n",
       "</div>"
      ],
      "text/plain": [
       "          id        f0        f1         f2     product\n",
       "931    HZww2  0.755284  0.368511   1.863211   30.681774\n",
       "1364   bxg6G  0.411645  0.856830  -3.653440   73.604260\n",
       "1949   QcMuo  0.506563 -0.323775  -2.215583   75.496502\n",
       "3389   A5aEY -0.039949  0.156872   0.209861   89.249364\n",
       "7530   HZww2  1.061194 -0.373969  10.430210  158.828695\n",
       "16633  fiKDv  0.157341  1.028359   5.585586   95.817889\n",
       "21426  Tdehs  0.829407  0.298807  -0.049563   96.035308\n",
       "41724  bxg6G -0.823752  0.546319   3.630479   93.007798\n",
       "42529  AGS9W  1.454747 -0.479651   0.683380  126.370504\n",
       "51970  A5aEY -0.180335  0.935548  -2.094773   33.020205\n",
       "60140  TtcGQ  0.569276 -0.104876   6.440215   85.350186\n",
       "63593  QcMuo  0.635635 -0.473422   0.862670   64.578675\n",
       "64022  74z30  0.741456  0.459229   5.153109  140.771492\n",
       "66136  74z30  1.084962 -0.312358   6.990771  127.643327\n",
       "69163  AGS9W -0.933795  0.116194  -3.655896   19.230453\n",
       "75715  Tdehs  0.112079  0.430296   3.218993   60.964018\n",
       "89582  bsk9y  0.398908 -0.400253  10.122376  163.433078\n",
       "90815  fiKDv  0.049883  0.841313   6.394613  137.346586\n",
       "92341  TtcGQ  0.110711  1.022689   0.911381  101.318008\n",
       "97785  bsk9y  0.378429  0.005837   0.160827  160.637302"
      ]
     },
     "execution_count": 6,
     "metadata": {},
     "output_type": "execute_result"
    }
   ],
   "source": [
    "df_1[df_1.duplicated('id',keep=False)]"
   ]
  },
  {
   "cell_type": "code",
   "execution_count": 7,
   "metadata": {},
   "outputs": [],
   "source": [
    "df_1 = df_1.drop('id', axis=1)"
   ]
  },
  {
   "cell_type": "code",
   "execution_count": 8,
   "metadata": {},
   "outputs": [
    {
     "data": {
      "text/html": [
       "<div>\n",
       "<style scoped>\n",
       "    .dataframe tbody tr th:only-of-type {\n",
       "        vertical-align: middle;\n",
       "    }\n",
       "\n",
       "    .dataframe tbody tr th {\n",
       "        vertical-align: top;\n",
       "    }\n",
       "\n",
       "    .dataframe thead th {\n",
       "        text-align: right;\n",
       "    }\n",
       "</style>\n",
       "<table border=\"1\" class=\"dataframe\">\n",
       "  <thead>\n",
       "    <tr style=\"text-align: right;\">\n",
       "      <th></th>\n",
       "      <th>id</th>\n",
       "      <th>f0</th>\n",
       "      <th>f1</th>\n",
       "      <th>f2</th>\n",
       "      <th>product</th>\n",
       "    </tr>\n",
       "  </thead>\n",
       "  <tbody>\n",
       "    <tr>\n",
       "      <th>0</th>\n",
       "      <td>kBEdx</td>\n",
       "      <td>-15.001348</td>\n",
       "      <td>-8.276000</td>\n",
       "      <td>-0.005876</td>\n",
       "      <td>3.179103</td>\n",
       "    </tr>\n",
       "    <tr>\n",
       "      <th>1</th>\n",
       "      <td>62mP7</td>\n",
       "      <td>14.272088</td>\n",
       "      <td>-3.475083</td>\n",
       "      <td>0.999183</td>\n",
       "      <td>26.953261</td>\n",
       "    </tr>\n",
       "    <tr>\n",
       "      <th>2</th>\n",
       "      <td>vyE1P</td>\n",
       "      <td>6.263187</td>\n",
       "      <td>-5.948386</td>\n",
       "      <td>5.001160</td>\n",
       "      <td>134.766305</td>\n",
       "    </tr>\n",
       "    <tr>\n",
       "      <th>3</th>\n",
       "      <td>KcrkZ</td>\n",
       "      <td>-13.081196</td>\n",
       "      <td>-11.506057</td>\n",
       "      <td>4.999415</td>\n",
       "      <td>137.945408</td>\n",
       "    </tr>\n",
       "    <tr>\n",
       "      <th>4</th>\n",
       "      <td>AHL4O</td>\n",
       "      <td>12.702195</td>\n",
       "      <td>-8.147433</td>\n",
       "      <td>5.004363</td>\n",
       "      <td>134.766305</td>\n",
       "    </tr>\n",
       "    <tr>\n",
       "      <th>...</th>\n",
       "      <td>...</td>\n",
       "      <td>...</td>\n",
       "      <td>...</td>\n",
       "      <td>...</td>\n",
       "      <td>...</td>\n",
       "    </tr>\n",
       "    <tr>\n",
       "      <th>99995</th>\n",
       "      <td>QywKC</td>\n",
       "      <td>9.535637</td>\n",
       "      <td>-6.878139</td>\n",
       "      <td>1.998296</td>\n",
       "      <td>53.906522</td>\n",
       "    </tr>\n",
       "    <tr>\n",
       "      <th>99996</th>\n",
       "      <td>ptvty</td>\n",
       "      <td>-10.160631</td>\n",
       "      <td>-12.558096</td>\n",
       "      <td>5.005581</td>\n",
       "      <td>137.945408</td>\n",
       "    </tr>\n",
       "    <tr>\n",
       "      <th>99997</th>\n",
       "      <td>09gWa</td>\n",
       "      <td>-7.378891</td>\n",
       "      <td>-3.084104</td>\n",
       "      <td>4.998651</td>\n",
       "      <td>137.945408</td>\n",
       "    </tr>\n",
       "    <tr>\n",
       "      <th>99998</th>\n",
       "      <td>rqwUm</td>\n",
       "      <td>0.665714</td>\n",
       "      <td>-6.152593</td>\n",
       "      <td>1.000146</td>\n",
       "      <td>30.132364</td>\n",
       "    </tr>\n",
       "    <tr>\n",
       "      <th>99999</th>\n",
       "      <td>relB0</td>\n",
       "      <td>-3.426139</td>\n",
       "      <td>-7.794274</td>\n",
       "      <td>-0.003299</td>\n",
       "      <td>3.179103</td>\n",
       "    </tr>\n",
       "  </tbody>\n",
       "</table>\n",
       "<p>100000 rows × 5 columns</p>\n",
       "</div>"
      ],
      "text/plain": [
       "          id         f0         f1        f2     product\n",
       "0      kBEdx -15.001348  -8.276000 -0.005876    3.179103\n",
       "1      62mP7  14.272088  -3.475083  0.999183   26.953261\n",
       "2      vyE1P   6.263187  -5.948386  5.001160  134.766305\n",
       "3      KcrkZ -13.081196 -11.506057  4.999415  137.945408\n",
       "4      AHL4O  12.702195  -8.147433  5.004363  134.766305\n",
       "...      ...        ...        ...       ...         ...\n",
       "99995  QywKC   9.535637  -6.878139  1.998296   53.906522\n",
       "99996  ptvty -10.160631 -12.558096  5.005581  137.945408\n",
       "99997  09gWa  -7.378891  -3.084104  4.998651  137.945408\n",
       "99998  rqwUm   0.665714  -6.152593  1.000146   30.132364\n",
       "99999  relB0  -3.426139  -7.794274 -0.003299    3.179103\n",
       "\n",
       "[100000 rows x 5 columns]"
      ]
     },
     "execution_count": 8,
     "metadata": {},
     "output_type": "execute_result"
    }
   ],
   "source": [
    "df_2"
   ]
  },
  {
   "cell_type": "code",
   "execution_count": 9,
   "metadata": {},
   "outputs": [
    {
     "name": "stdout",
     "output_type": "stream",
     "text": [
      "<class 'pandas.core.frame.DataFrame'>\n",
      "RangeIndex: 100000 entries, 0 to 99999\n",
      "Data columns (total 5 columns):\n",
      " #   Column   Non-Null Count   Dtype  \n",
      "---  ------   --------------   -----  \n",
      " 0   id       100000 non-null  object \n",
      " 1   f0       100000 non-null  float64\n",
      " 2   f1       100000 non-null  float64\n",
      " 3   f2       100000 non-null  float64\n",
      " 4   product  100000 non-null  float64\n",
      "dtypes: float64(4), object(1)\n",
      "memory usage: 3.8+ MB\n"
     ]
    }
   ],
   "source": [
    "df_2.info()"
   ]
  },
  {
   "cell_type": "code",
   "execution_count": 10,
   "metadata": {},
   "outputs": [
    {
     "data": {
      "text/plain": [
       "0"
      ]
     },
     "execution_count": 10,
     "metadata": {},
     "output_type": "execute_result"
    }
   ],
   "source": [
    "df_2.duplicated().sum()"
   ]
  },
  {
   "cell_type": "code",
   "execution_count": 11,
   "metadata": {},
   "outputs": [
    {
     "data": {
      "text/html": [
       "<div>\n",
       "<style scoped>\n",
       "    .dataframe tbody tr th:only-of-type {\n",
       "        vertical-align: middle;\n",
       "    }\n",
       "\n",
       "    .dataframe tbody tr th {\n",
       "        vertical-align: top;\n",
       "    }\n",
       "\n",
       "    .dataframe thead th {\n",
       "        text-align: right;\n",
       "    }\n",
       "</style>\n",
       "<table border=\"1\" class=\"dataframe\">\n",
       "  <thead>\n",
       "    <tr style=\"text-align: right;\">\n",
       "      <th></th>\n",
       "      <th>id</th>\n",
       "      <th>f0</th>\n",
       "      <th>f1</th>\n",
       "      <th>f2</th>\n",
       "      <th>product</th>\n",
       "    </tr>\n",
       "  </thead>\n",
       "  <tbody>\n",
       "    <tr>\n",
       "      <th>1305</th>\n",
       "      <td>LHZR0</td>\n",
       "      <td>11.170835</td>\n",
       "      <td>-1.945066</td>\n",
       "      <td>3.002872</td>\n",
       "      <td>80.859783</td>\n",
       "    </tr>\n",
       "    <tr>\n",
       "      <th>2721</th>\n",
       "      <td>bfPNe</td>\n",
       "      <td>-9.494442</td>\n",
       "      <td>-5.463692</td>\n",
       "      <td>4.006042</td>\n",
       "      <td>110.992147</td>\n",
       "    </tr>\n",
       "    <tr>\n",
       "      <th>5849</th>\n",
       "      <td>5ltQ6</td>\n",
       "      <td>-3.435401</td>\n",
       "      <td>-12.296043</td>\n",
       "      <td>1.999796</td>\n",
       "      <td>57.085625</td>\n",
       "    </tr>\n",
       "    <tr>\n",
       "      <th>41906</th>\n",
       "      <td>LHZR0</td>\n",
       "      <td>-8.989672</td>\n",
       "      <td>-4.286607</td>\n",
       "      <td>2.009139</td>\n",
       "      <td>57.085625</td>\n",
       "    </tr>\n",
       "    <tr>\n",
       "      <th>47591</th>\n",
       "      <td>wt4Uk</td>\n",
       "      <td>-9.091098</td>\n",
       "      <td>-8.109279</td>\n",
       "      <td>-0.002314</td>\n",
       "      <td>3.179103</td>\n",
       "    </tr>\n",
       "    <tr>\n",
       "      <th>82178</th>\n",
       "      <td>bfPNe</td>\n",
       "      <td>-6.202799</td>\n",
       "      <td>-4.820045</td>\n",
       "      <td>2.995107</td>\n",
       "      <td>84.038886</td>\n",
       "    </tr>\n",
       "    <tr>\n",
       "      <th>82873</th>\n",
       "      <td>wt4Uk</td>\n",
       "      <td>10.259972</td>\n",
       "      <td>-9.376355</td>\n",
       "      <td>4.994297</td>\n",
       "      <td>134.766305</td>\n",
       "    </tr>\n",
       "    <tr>\n",
       "      <th>84461</th>\n",
       "      <td>5ltQ6</td>\n",
       "      <td>18.213839</td>\n",
       "      <td>2.191999</td>\n",
       "      <td>3.993869</td>\n",
       "      <td>107.813044</td>\n",
       "    </tr>\n",
       "  </tbody>\n",
       "</table>\n",
       "</div>"
      ],
      "text/plain": [
       "          id         f0         f1        f2     product\n",
       "1305   LHZR0  11.170835  -1.945066  3.002872   80.859783\n",
       "2721   bfPNe  -9.494442  -5.463692  4.006042  110.992147\n",
       "5849   5ltQ6  -3.435401 -12.296043  1.999796   57.085625\n",
       "41906  LHZR0  -8.989672  -4.286607  2.009139   57.085625\n",
       "47591  wt4Uk  -9.091098  -8.109279 -0.002314    3.179103\n",
       "82178  bfPNe  -6.202799  -4.820045  2.995107   84.038886\n",
       "82873  wt4Uk  10.259972  -9.376355  4.994297  134.766305\n",
       "84461  5ltQ6  18.213839   2.191999  3.993869  107.813044"
      ]
     },
     "execution_count": 11,
     "metadata": {},
     "output_type": "execute_result"
    }
   ],
   "source": [
    "df_2[df_2.duplicated('id',keep=False)]"
   ]
  },
  {
   "cell_type": "code",
   "execution_count": 12,
   "metadata": {},
   "outputs": [],
   "source": [
    "df_2 = df_2.drop('id', axis=1)"
   ]
  },
  {
   "cell_type": "code",
   "execution_count": 13,
   "metadata": {},
   "outputs": [
    {
     "data": {
      "text/html": [
       "<div>\n",
       "<style scoped>\n",
       "    .dataframe tbody tr th:only-of-type {\n",
       "        vertical-align: middle;\n",
       "    }\n",
       "\n",
       "    .dataframe tbody tr th {\n",
       "        vertical-align: top;\n",
       "    }\n",
       "\n",
       "    .dataframe thead th {\n",
       "        text-align: right;\n",
       "    }\n",
       "</style>\n",
       "<table border=\"1\" class=\"dataframe\">\n",
       "  <thead>\n",
       "    <tr style=\"text-align: right;\">\n",
       "      <th></th>\n",
       "      <th>id</th>\n",
       "      <th>f0</th>\n",
       "      <th>f1</th>\n",
       "      <th>f2</th>\n",
       "      <th>product</th>\n",
       "    </tr>\n",
       "  </thead>\n",
       "  <tbody>\n",
       "    <tr>\n",
       "      <th>0</th>\n",
       "      <td>fwXo0</td>\n",
       "      <td>-1.146987</td>\n",
       "      <td>0.963328</td>\n",
       "      <td>-0.828965</td>\n",
       "      <td>27.758673</td>\n",
       "    </tr>\n",
       "    <tr>\n",
       "      <th>1</th>\n",
       "      <td>WJtFt</td>\n",
       "      <td>0.262778</td>\n",
       "      <td>0.269839</td>\n",
       "      <td>-2.530187</td>\n",
       "      <td>56.069697</td>\n",
       "    </tr>\n",
       "    <tr>\n",
       "      <th>2</th>\n",
       "      <td>ovLUW</td>\n",
       "      <td>0.194587</td>\n",
       "      <td>0.289035</td>\n",
       "      <td>-5.586433</td>\n",
       "      <td>62.871910</td>\n",
       "    </tr>\n",
       "    <tr>\n",
       "      <th>3</th>\n",
       "      <td>q6cA6</td>\n",
       "      <td>2.236060</td>\n",
       "      <td>-0.553760</td>\n",
       "      <td>0.930038</td>\n",
       "      <td>114.572842</td>\n",
       "    </tr>\n",
       "    <tr>\n",
       "      <th>4</th>\n",
       "      <td>WPMUX</td>\n",
       "      <td>-0.515993</td>\n",
       "      <td>1.716266</td>\n",
       "      <td>5.899011</td>\n",
       "      <td>149.600746</td>\n",
       "    </tr>\n",
       "    <tr>\n",
       "      <th>...</th>\n",
       "      <td>...</td>\n",
       "      <td>...</td>\n",
       "      <td>...</td>\n",
       "      <td>...</td>\n",
       "      <td>...</td>\n",
       "    </tr>\n",
       "    <tr>\n",
       "      <th>99995</th>\n",
       "      <td>4GxBu</td>\n",
       "      <td>-1.777037</td>\n",
       "      <td>1.125220</td>\n",
       "      <td>6.263374</td>\n",
       "      <td>172.327046</td>\n",
       "    </tr>\n",
       "    <tr>\n",
       "      <th>99996</th>\n",
       "      <td>YKFjq</td>\n",
       "      <td>-1.261523</td>\n",
       "      <td>-0.894828</td>\n",
       "      <td>2.524545</td>\n",
       "      <td>138.748846</td>\n",
       "    </tr>\n",
       "    <tr>\n",
       "      <th>99997</th>\n",
       "      <td>tKPY3</td>\n",
       "      <td>-1.199934</td>\n",
       "      <td>-2.957637</td>\n",
       "      <td>5.219411</td>\n",
       "      <td>157.080080</td>\n",
       "    </tr>\n",
       "    <tr>\n",
       "      <th>99998</th>\n",
       "      <td>nmxp2</td>\n",
       "      <td>-2.419896</td>\n",
       "      <td>2.417221</td>\n",
       "      <td>-5.548444</td>\n",
       "      <td>51.795253</td>\n",
       "    </tr>\n",
       "    <tr>\n",
       "      <th>99999</th>\n",
       "      <td>V9kWn</td>\n",
       "      <td>-2.551421</td>\n",
       "      <td>-2.025625</td>\n",
       "      <td>6.090891</td>\n",
       "      <td>102.775767</td>\n",
       "    </tr>\n",
       "  </tbody>\n",
       "</table>\n",
       "<p>100000 rows × 5 columns</p>\n",
       "</div>"
      ],
      "text/plain": [
       "          id        f0        f1        f2     product\n",
       "0      fwXo0 -1.146987  0.963328 -0.828965   27.758673\n",
       "1      WJtFt  0.262778  0.269839 -2.530187   56.069697\n",
       "2      ovLUW  0.194587  0.289035 -5.586433   62.871910\n",
       "3      q6cA6  2.236060 -0.553760  0.930038  114.572842\n",
       "4      WPMUX -0.515993  1.716266  5.899011  149.600746\n",
       "...      ...       ...       ...       ...         ...\n",
       "99995  4GxBu -1.777037  1.125220  6.263374  172.327046\n",
       "99996  YKFjq -1.261523 -0.894828  2.524545  138.748846\n",
       "99997  tKPY3 -1.199934 -2.957637  5.219411  157.080080\n",
       "99998  nmxp2 -2.419896  2.417221 -5.548444   51.795253\n",
       "99999  V9kWn -2.551421 -2.025625  6.090891  102.775767\n",
       "\n",
       "[100000 rows x 5 columns]"
      ]
     },
     "execution_count": 13,
     "metadata": {},
     "output_type": "execute_result"
    }
   ],
   "source": [
    "df_3"
   ]
  },
  {
   "cell_type": "code",
   "execution_count": 14,
   "metadata": {},
   "outputs": [
    {
     "name": "stdout",
     "output_type": "stream",
     "text": [
      "<class 'pandas.core.frame.DataFrame'>\n",
      "RangeIndex: 100000 entries, 0 to 99999\n",
      "Data columns (total 5 columns):\n",
      " #   Column   Non-Null Count   Dtype  \n",
      "---  ------   --------------   -----  \n",
      " 0   id       100000 non-null  object \n",
      " 1   f0       100000 non-null  float64\n",
      " 2   f1       100000 non-null  float64\n",
      " 3   f2       100000 non-null  float64\n",
      " 4   product  100000 non-null  float64\n",
      "dtypes: float64(4), object(1)\n",
      "memory usage: 3.8+ MB\n"
     ]
    }
   ],
   "source": [
    "df_3.info()"
   ]
  },
  {
   "cell_type": "code",
   "execution_count": 15,
   "metadata": {},
   "outputs": [
    {
     "data": {
      "text/plain": [
       "0"
      ]
     },
     "execution_count": 15,
     "metadata": {},
     "output_type": "execute_result"
    }
   ],
   "source": [
    "df_3.duplicated().sum()"
   ]
  },
  {
   "cell_type": "code",
   "execution_count": 16,
   "metadata": {},
   "outputs": [
    {
     "data": {
      "text/html": [
       "<div>\n",
       "<style scoped>\n",
       "    .dataframe tbody tr th:only-of-type {\n",
       "        vertical-align: middle;\n",
       "    }\n",
       "\n",
       "    .dataframe tbody tr th {\n",
       "        vertical-align: top;\n",
       "    }\n",
       "\n",
       "    .dataframe thead th {\n",
       "        text-align: right;\n",
       "    }\n",
       "</style>\n",
       "<table border=\"1\" class=\"dataframe\">\n",
       "  <thead>\n",
       "    <tr style=\"text-align: right;\">\n",
       "      <th></th>\n",
       "      <th>id</th>\n",
       "      <th>f0</th>\n",
       "      <th>f1</th>\n",
       "      <th>f2</th>\n",
       "      <th>product</th>\n",
       "    </tr>\n",
       "  </thead>\n",
       "  <tbody>\n",
       "    <tr>\n",
       "      <th>11449</th>\n",
       "      <td>VF7Jo</td>\n",
       "      <td>2.122656</td>\n",
       "      <td>-0.858275</td>\n",
       "      <td>5.746001</td>\n",
       "      <td>181.716817</td>\n",
       "    </tr>\n",
       "    <tr>\n",
       "      <th>28039</th>\n",
       "      <td>xCHr8</td>\n",
       "      <td>1.633027</td>\n",
       "      <td>0.368135</td>\n",
       "      <td>-2.378367</td>\n",
       "      <td>6.120525</td>\n",
       "    </tr>\n",
       "    <tr>\n",
       "      <th>43233</th>\n",
       "      <td>xCHr8</td>\n",
       "      <td>-0.847066</td>\n",
       "      <td>2.101796</td>\n",
       "      <td>5.597130</td>\n",
       "      <td>184.388641</td>\n",
       "    </tr>\n",
       "    <tr>\n",
       "      <th>44378</th>\n",
       "      <td>Vcm5J</td>\n",
       "      <td>-1.229484</td>\n",
       "      <td>-2.439204</td>\n",
       "      <td>1.222909</td>\n",
       "      <td>137.968290</td>\n",
       "    </tr>\n",
       "    <tr>\n",
       "      <th>45404</th>\n",
       "      <td>KUPhW</td>\n",
       "      <td>0.231846</td>\n",
       "      <td>-1.698941</td>\n",
       "      <td>4.990775</td>\n",
       "      <td>11.716299</td>\n",
       "    </tr>\n",
       "    <tr>\n",
       "      <th>49564</th>\n",
       "      <td>VF7Jo</td>\n",
       "      <td>-0.883115</td>\n",
       "      <td>0.560537</td>\n",
       "      <td>0.723601</td>\n",
       "      <td>136.233420</td>\n",
       "    </tr>\n",
       "    <tr>\n",
       "      <th>55967</th>\n",
       "      <td>KUPhW</td>\n",
       "      <td>1.211150</td>\n",
       "      <td>3.176408</td>\n",
       "      <td>5.543540</td>\n",
       "      <td>132.831802</td>\n",
       "    </tr>\n",
       "    <tr>\n",
       "      <th>95090</th>\n",
       "      <td>Vcm5J</td>\n",
       "      <td>2.587702</td>\n",
       "      <td>1.986875</td>\n",
       "      <td>2.482245</td>\n",
       "      <td>92.327572</td>\n",
       "    </tr>\n",
       "  </tbody>\n",
       "</table>\n",
       "</div>"
      ],
      "text/plain": [
       "          id        f0        f1        f2     product\n",
       "11449  VF7Jo  2.122656 -0.858275  5.746001  181.716817\n",
       "28039  xCHr8  1.633027  0.368135 -2.378367    6.120525\n",
       "43233  xCHr8 -0.847066  2.101796  5.597130  184.388641\n",
       "44378  Vcm5J -1.229484 -2.439204  1.222909  137.968290\n",
       "45404  KUPhW  0.231846 -1.698941  4.990775   11.716299\n",
       "49564  VF7Jo -0.883115  0.560537  0.723601  136.233420\n",
       "55967  KUPhW  1.211150  3.176408  5.543540  132.831802\n",
       "95090  Vcm5J  2.587702  1.986875  2.482245   92.327572"
      ]
     },
     "execution_count": 16,
     "metadata": {},
     "output_type": "execute_result"
    }
   ],
   "source": [
    "df_3[df_3.duplicated('id',keep=False)]"
   ]
  },
  {
   "cell_type": "code",
   "execution_count": 17,
   "metadata": {},
   "outputs": [],
   "source": [
    "df_3 = df_3.drop('id', axis=1)"
   ]
  },
  {
   "cell_type": "markdown",
   "metadata": {},
   "source": [
    "Промежуточные выводы:\n",
    "- Данные загружены.\n",
    "- каждый датасет состоит из 100000 строк и 5 колонок.\n",
    "- Есть скважины с одинаковым id. Более подробной информации о методе присвоения id нет. Тк количество повторяющихся id небольшое и данные в столбцах с признаками отличаются, строки не удалены.\n",
    "- Убраны столбцы с id скважин, тк будут мешать обучению модели. Необходимости в них на данный момент нет.\n",
    "- Типы данных верные."
   ]
  },
  {
   "cell_type": "markdown",
   "metadata": {},
   "source": [
    "## Обучение и проверка модели"
   ]
  },
  {
   "cell_type": "markdown",
   "metadata": {},
   "source": [
    "Разобьем данные на обучающую и валидационные выборки для каждого региона."
   ]
  },
  {
   "cell_type": "code",
   "execution_count": 18,
   "metadata": {},
   "outputs": [],
   "source": [
    "RANDOM_STATE = 12345"
   ]
  },
  {
   "cell_type": "markdown",
   "metadata": {},
   "source": [
    "1 регион"
   ]
  },
  {
   "cell_type": "code",
   "execution_count": 19,
   "metadata": {},
   "outputs": [],
   "source": [
    "target_1 = df_1['product']\n",
    "features_1 = df_1.drop('product', axis=1)\n",
    "\n",
    "features_train_1, features_valid_1, target_train_1, target_valid_1 = train_test_split(\n",
    "    features_1, target_1, test_size=0.25, random_state=RANDOM_STATE)"
   ]
  },
  {
   "cell_type": "markdown",
   "metadata": {},
   "source": [
    "2 регион"
   ]
  },
  {
   "cell_type": "code",
   "execution_count": 20,
   "metadata": {},
   "outputs": [],
   "source": [
    "target_2 = df_2['product']\n",
    "features_2 = df_2.drop('product', axis=1)\n",
    "\n",
    "features_train_2, features_valid_2, target_train_2, target_valid_2 = train_test_split(\n",
    "    features_2, target_2, test_size=0.25, random_state=RANDOM_STATE)"
   ]
  },
  {
   "cell_type": "markdown",
   "metadata": {},
   "source": [
    "3 региона"
   ]
  },
  {
   "cell_type": "code",
   "execution_count": 21,
   "metadata": {},
   "outputs": [],
   "source": [
    "target_3 = df_3['product']\n",
    "features_3 = df_3.drop('product', axis=1)\n",
    "\n",
    "features_train_3, features_valid_3, target_train_3, target_valid_3 = train_test_split(\n",
    "    features_3, target_3, test_size=0.25, random_state=RANDOM_STATE)"
   ]
  },
  {
   "cell_type": "markdown",
   "metadata": {},
   "source": [
    "Обучим модель для каждого региона и предскажем объем запасов. Оценим адекватность модели по RMSE."
   ]
  },
  {
   "cell_type": "code",
   "execution_count": 22,
   "metadata": {},
   "outputs": [
    {
     "name": "stdout",
     "output_type": "stream",
     "text": [
      "Средний запас предсказанного сырья первого региона: 92.59256778438035\n",
      "Фактический средний запас сырья в первом регионе: 92.07859674082927\n",
      "RMSE модели линейной регрессии на валидационной выборке первого региона: 37.5794217150813\n"
     ]
    }
   ],
   "source": [
    "model = LinearRegression()\n",
    "model.fit(features_train_1, target_train_1)\n",
    "predictions_valid_1 = model.predict(features_valid_1)\n",
    "\n",
    "rmse_1 = mean_squared_error(target_valid_1,predictions_valid_1)**0.5\n",
    "mean_predicted_valid_1 = predictions_valid_1.mean()\n",
    "\n",
    "print('Средний запас предсказанного сырья первого региона:', mean_predicted_valid_1)\n",
    "print('Фактический средний запас сырья в первом регионе:', target_valid_1.mean())\n",
    "print(\"RMSE модели линейной регрессии на валидационной выборке первого региона:\", rmse_1)"
   ]
  },
  {
   "cell_type": "code",
   "execution_count": 23,
   "metadata": {},
   "outputs": [
    {
     "name": "stdout",
     "output_type": "stream",
     "text": [
      "Средний запас предсказанного сырья во втором регионе: 68.728546895446\n",
      "Фактический средний запас сырья во втором регионе: 68.72313602435997\n",
      "RMSE модели линейной регрессии на валидационной выборке второго региона: 0.893099286775617\n"
     ]
    }
   ],
   "source": [
    "model = LinearRegression()\n",
    "model.fit(features_train_2, target_train_2)\n",
    "predictions_valid_2 = model.predict(features_valid_2)\n",
    "\n",
    "rmse_2 = mean_squared_error(target_valid_2,predictions_valid_2)**0.5\n",
    "mean_predicted_valid_2 = predictions_valid_2.mean()\n",
    "\n",
    "print('Средний запас предсказанного сырья во втором регионе:', mean_predicted_valid_2)\n",
    "print('Фактический средний запас сырья во втором регионе:', target_valid_2.mean())\n",
    "print(\"RMSE модели линейной регрессии на валидационной выборке второго региона:\", rmse_2)"
   ]
  },
  {
   "cell_type": "code",
   "execution_count": 24,
   "metadata": {},
   "outputs": [
    {
     "name": "stdout",
     "output_type": "stream",
     "text": [
      "Средний запас предсказанного сырья в третьем регионе: 94.96504596800489\n",
      "Фактический средний запас сырья в третьем регионе: 94.88423280885438\n",
      "RMSE модели линейной регрессии на валидационной выборке третьего региона: 40.02970873393434\n"
     ]
    }
   ],
   "source": [
    "model = LinearRegression()\n",
    "model.fit(features_train_3, target_train_3)\n",
    "predictions_valid_3 = model.predict(features_valid_3)\n",
    "\n",
    "rmse_3 = mean_squared_error(target_valid_3,predictions_valid_3)**0.5\n",
    "mean_predicted_valid_3 = predictions_valid_3.mean()\n",
    "\n",
    "print('Средний запас предсказанного сырья в третьем регионе:', mean_predicted_valid_3)\n",
    "print('Фактический средний запас сырья в третьем регионе:', target_valid_3.mean())\n",
    "print(\"RMSE модели линейной регрессии на валидационной выборке третьего региона:\", rmse_3)"
   ]
  },
  {
   "cell_type": "markdown",
   "metadata": {},
   "source": [
    "Модель на втором регионе показала результат значительно лучше чем в других. Проверю дополнительно корреляцию между признаками и запасами."
   ]
  },
  {
   "cell_type": "code",
   "execution_count": 25,
   "metadata": {},
   "outputs": [
    {
     "data": {
      "text/html": [
       "<div>\n",
       "<style scoped>\n",
       "    .dataframe tbody tr th:only-of-type {\n",
       "        vertical-align: middle;\n",
       "    }\n",
       "\n",
       "    .dataframe tbody tr th {\n",
       "        vertical-align: top;\n",
       "    }\n",
       "\n",
       "    .dataframe thead th {\n",
       "        text-align: right;\n",
       "    }\n",
       "</style>\n",
       "<table border=\"1\" class=\"dataframe\">\n",
       "  <thead>\n",
       "    <tr style=\"text-align: right;\">\n",
       "      <th></th>\n",
       "      <th>f0</th>\n",
       "      <th>f1</th>\n",
       "      <th>f2</th>\n",
       "      <th>product</th>\n",
       "    </tr>\n",
       "  </thead>\n",
       "  <tbody>\n",
       "    <tr>\n",
       "      <th>f0</th>\n",
       "      <td>1.000000</td>\n",
       "      <td>-0.440723</td>\n",
       "      <td>-0.003153</td>\n",
       "      <td>0.143536</td>\n",
       "    </tr>\n",
       "    <tr>\n",
       "      <th>f1</th>\n",
       "      <td>-0.440723</td>\n",
       "      <td>1.000000</td>\n",
       "      <td>0.001724</td>\n",
       "      <td>-0.192356</td>\n",
       "    </tr>\n",
       "    <tr>\n",
       "      <th>f2</th>\n",
       "      <td>-0.003153</td>\n",
       "      <td>0.001724</td>\n",
       "      <td>1.000000</td>\n",
       "      <td>0.483663</td>\n",
       "    </tr>\n",
       "    <tr>\n",
       "      <th>product</th>\n",
       "      <td>0.143536</td>\n",
       "      <td>-0.192356</td>\n",
       "      <td>0.483663</td>\n",
       "      <td>1.000000</td>\n",
       "    </tr>\n",
       "  </tbody>\n",
       "</table>\n",
       "</div>"
      ],
      "text/plain": [
       "               f0        f1        f2   product\n",
       "f0       1.000000 -0.440723 -0.003153  0.143536\n",
       "f1      -0.440723  1.000000  0.001724 -0.192356\n",
       "f2      -0.003153  0.001724  1.000000  0.483663\n",
       "product  0.143536 -0.192356  0.483663  1.000000"
      ]
     },
     "execution_count": 25,
     "metadata": {},
     "output_type": "execute_result"
    }
   ],
   "source": [
    "df_1.corr()"
   ]
  },
  {
   "cell_type": "code",
   "execution_count": 26,
   "metadata": {},
   "outputs": [
    {
     "data": {
      "text/html": [
       "<div>\n",
       "<style scoped>\n",
       "    .dataframe tbody tr th:only-of-type {\n",
       "        vertical-align: middle;\n",
       "    }\n",
       "\n",
       "    .dataframe tbody tr th {\n",
       "        vertical-align: top;\n",
       "    }\n",
       "\n",
       "    .dataframe thead th {\n",
       "        text-align: right;\n",
       "    }\n",
       "</style>\n",
       "<table border=\"1\" class=\"dataframe\">\n",
       "  <thead>\n",
       "    <tr style=\"text-align: right;\">\n",
       "      <th></th>\n",
       "      <th>f0</th>\n",
       "      <th>f1</th>\n",
       "      <th>f2</th>\n",
       "      <th>product</th>\n",
       "    </tr>\n",
       "  </thead>\n",
       "  <tbody>\n",
       "    <tr>\n",
       "      <th>f0</th>\n",
       "      <td>1.000000</td>\n",
       "      <td>0.182287</td>\n",
       "      <td>-0.001777</td>\n",
       "      <td>-0.030491</td>\n",
       "    </tr>\n",
       "    <tr>\n",
       "      <th>f1</th>\n",
       "      <td>0.182287</td>\n",
       "      <td>1.000000</td>\n",
       "      <td>-0.002595</td>\n",
       "      <td>-0.010155</td>\n",
       "    </tr>\n",
       "    <tr>\n",
       "      <th>f2</th>\n",
       "      <td>-0.001777</td>\n",
       "      <td>-0.002595</td>\n",
       "      <td>1.000000</td>\n",
       "      <td>0.999397</td>\n",
       "    </tr>\n",
       "    <tr>\n",
       "      <th>product</th>\n",
       "      <td>-0.030491</td>\n",
       "      <td>-0.010155</td>\n",
       "      <td>0.999397</td>\n",
       "      <td>1.000000</td>\n",
       "    </tr>\n",
       "  </tbody>\n",
       "</table>\n",
       "</div>"
      ],
      "text/plain": [
       "               f0        f1        f2   product\n",
       "f0       1.000000  0.182287 -0.001777 -0.030491\n",
       "f1       0.182287  1.000000 -0.002595 -0.010155\n",
       "f2      -0.001777 -0.002595  1.000000  0.999397\n",
       "product -0.030491 -0.010155  0.999397  1.000000"
      ]
     },
     "execution_count": 26,
     "metadata": {},
     "output_type": "execute_result"
    }
   ],
   "source": [
    "df_2.corr()"
   ]
  },
  {
   "cell_type": "code",
   "execution_count": 27,
   "metadata": {},
   "outputs": [
    {
     "data": {
      "text/html": [
       "<div>\n",
       "<style scoped>\n",
       "    .dataframe tbody tr th:only-of-type {\n",
       "        vertical-align: middle;\n",
       "    }\n",
       "\n",
       "    .dataframe tbody tr th {\n",
       "        vertical-align: top;\n",
       "    }\n",
       "\n",
       "    .dataframe thead th {\n",
       "        text-align: right;\n",
       "    }\n",
       "</style>\n",
       "<table border=\"1\" class=\"dataframe\">\n",
       "  <thead>\n",
       "    <tr style=\"text-align: right;\">\n",
       "      <th></th>\n",
       "      <th>f0</th>\n",
       "      <th>f1</th>\n",
       "      <th>f2</th>\n",
       "      <th>product</th>\n",
       "    </tr>\n",
       "  </thead>\n",
       "  <tbody>\n",
       "    <tr>\n",
       "      <th>f0</th>\n",
       "      <td>1.000000</td>\n",
       "      <td>0.000528</td>\n",
       "      <td>-0.000448</td>\n",
       "      <td>-0.001987</td>\n",
       "    </tr>\n",
       "    <tr>\n",
       "      <th>f1</th>\n",
       "      <td>0.000528</td>\n",
       "      <td>1.000000</td>\n",
       "      <td>0.000779</td>\n",
       "      <td>-0.001012</td>\n",
       "    </tr>\n",
       "    <tr>\n",
       "      <th>f2</th>\n",
       "      <td>-0.000448</td>\n",
       "      <td>0.000779</td>\n",
       "      <td>1.000000</td>\n",
       "      <td>0.445871</td>\n",
       "    </tr>\n",
       "    <tr>\n",
       "      <th>product</th>\n",
       "      <td>-0.001987</td>\n",
       "      <td>-0.001012</td>\n",
       "      <td>0.445871</td>\n",
       "      <td>1.000000</td>\n",
       "    </tr>\n",
       "  </tbody>\n",
       "</table>\n",
       "</div>"
      ],
      "text/plain": [
       "               f0        f1        f2   product\n",
       "f0       1.000000  0.000528 -0.000448 -0.001987\n",
       "f1       0.000528  1.000000  0.000779 -0.001012\n",
       "f2      -0.000448  0.000779  1.000000  0.445871\n",
       "product -0.001987 -0.001012  0.445871  1.000000"
      ]
     },
     "execution_count": 27,
     "metadata": {},
     "output_type": "execute_result"
    }
   ],
   "source": [
    "df_3.corr()"
   ]
  },
  {
   "cell_type": "markdown",
   "metadata": {},
   "source": [
    "Во втором регионе в признаке f2 наблюдается корреляция практически равная 1 и в два раза больше чем в первом и третьем регионе. Этим обусловлен столь качественный результат."
   ]
  },
  {
   "cell_type": "markdown",
   "metadata": {},
   "source": [
    "Промежуточные выводы:\n",
    "- Данные разделены на обучающие и валидационные выборки для каждого региона;\n",
    "- Для каждого региона обучена модель и сделаны предсказания по объему запасов;\n",
    "- Наимбольший предсказанный объем в 3 регионе;\n",
    "- Несмотря на практически полное свопадение среднего объема запасов между предсказанными объемами и фактическими, наблюдается различие в RMSE.\n",
    "- Высокое значение RMSE модели для 1 и 3 участка говорит о сильном различии между предсказанным результатом и фактическим.\n",
    "- RMSE для 2 региона - 0.8, показывает, что модель хорошо справилась с предсказанием и результаты максимально близки к реальным.\n",
    "- Результат предсказаний 2 модели обусловлен высоким уровнем корелляции между признаком f2 и целевым значением. "
   ]
  },
  {
   "cell_type": "markdown",
   "metadata": {},
   "source": [
    "## Подготовка к расчёту прибыли"
   ]
  },
  {
   "cell_type": "markdown",
   "metadata": {},
   "source": [
    "Ввожу переменные бюджета и стоимости тысячи бареллей. Расчитываю необходимый объем для окупаемости."
   ]
  },
  {
   "cell_type": "code",
   "execution_count": 28,
   "metadata": {},
   "outputs": [
    {
     "name": "stdout",
     "output_type": "stream",
     "text": [
      "Для безубыточной работы необходимо продать более 22223 тыс. бареллей\n",
      "Окупаемость разработки месторождения, если на каждой скважине не менее 112 тыс. бареллей.\n"
     ]
    }
   ],
   "source": [
    "BUDGET = 10000000000 #бюджет на разработку региона\n",
    "COST_PRODUCT = 450000 #стоимость тысячи бареллей\n",
    "PAYBACK = math.ceil(BUDGET / COST_PRODUCT) #окупаемость\n",
    "WORKING_WELLS = 200 #кол-во работающих скважин\n",
    "\n",
    "print ('Для безубыточной работы необходимо продать более', PAYBACK, 'тыс. бареллей')\n",
    "print ('Окупаемость разработки месторождения, если на каждой скважине не менее', math.ceil(PAYBACK /WORKING_WELLS), 'тыс. бареллей.')"
   ]
  },
  {
   "cell_type": "markdown",
   "metadata": {},
   "source": [
    "Промежуточные вывоы:\n",
    " - Введены бизнес праметры необходимые для расчётов прибыли.\n",
    " - При стоимости 450 т.р. за тысячу бареллей необходимо продать 22 223 тыс бареллей.\n",
    " - При условии работы 200 скважин в одном регионе, на каждой скважине в среднем должно быть запасов не менее 112 тыс бареллей.\n",
    " - Результаты средних запасов во всех трех регионах предсказанные моделью выше меньше необходимых 112 т.б., 92, 68 и 64 т.б."
   ]
  },
  {
   "cell_type": "markdown",
   "metadata": {},
   "source": [
    "## Расчёт прибыли и рисков "
   ]
  },
  {
   "cell_type": "markdown",
   "metadata": {},
   "source": [
    "Сделаю формулу по расчёту прибыли с региона."
   ]
  },
  {
   "cell_type": "code",
   "execution_count": 29,
   "metadata": {},
   "outputs": [],
   "source": [
    "def income(target, probabilities, count):\n",
    "    t = target.reset_index(drop = True)\n",
    "    p = pd.Series(probabilities)\n",
    "    probs_sorted = p.sort_values(ascending=False)\n",
    "    selected = t[probs_sorted.index][:count]\n",
    "    return selected.sum()  * COST_PRODUCT\n"
   ]
  },
  {
   "cell_type": "markdown",
   "metadata": {},
   "source": [
    "Расчитаем доход для каждого региона по ранее созданной формуле."
   ]
  },
  {
   "cell_type": "code",
   "execution_count": 30,
   "metadata": {},
   "outputs": [
    {
     "name": "stdout",
     "output_type": "stream",
     "text": [
      "Выручка в первом регионе 13.3 млрд.р.\n",
      "Прибыль: 3.3 млрд.р.\n"
     ]
    }
   ],
   "source": [
    "profit_1 = income(target_valid_1, predictions_valid_1,200)\n",
    "print(f'Выручка в первом регионе {profit_1/1000000000:.1f} млрд.р.')\n",
    "print(f'Прибыль: {(profit_1 - BUDGET)/1000000000:.1f} млрд.р.')"
   ]
  },
  {
   "cell_type": "code",
   "execution_count": 31,
   "metadata": {},
   "outputs": [
    {
     "name": "stdout",
     "output_type": "stream",
     "text": [
      "Выручка во вторм регионе 12.4 млрд. р.\n",
      "Прибыль: 2.4 млрд.р.\n"
     ]
    }
   ],
   "source": [
    "profit_2 = income(target_valid_2, predictions_valid_2,200)\n",
    "print(f'Выручка во вторм регионе {profit_2/1000000000:.1f} млрд. р.')\n",
    "print(f'Прибыль: {(profit_2 - BUDGET)/1000000000:.1f} млрд.р.')"
   ]
  },
  {
   "cell_type": "code",
   "execution_count": 32,
   "metadata": {},
   "outputs": [
    {
     "name": "stdout",
     "output_type": "stream",
     "text": [
      "Выручка в третьем регионе 12.7 млрд. р.\n",
      "Прибыль: 2.7 млрд.р.\n"
     ]
    }
   ],
   "source": [
    "profit_3 = income(target_valid_3, predictions_valid_3,200)\n",
    "print(f'Выручка в третьем регионе {profit_3/1000000000:.1f} млрд. р.')\n",
    "print(f'Прибыль: {(profit_3 - BUDGET)/1000000000:.1f} млрд.р.')"
   ]
  },
  {
   "cell_type": "markdown",
   "metadata": {},
   "source": [
    "Делаю бутстреп для выборки первого региона"
   ]
  },
  {
   "cell_type": "code",
   "execution_count": 33,
   "metadata": {},
   "outputs": [],
   "source": [
    "STATE = np.random.RandomState(12345)"
   ]
  },
  {
   "cell_type": "code",
   "execution_count": 34,
   "metadata": {},
   "outputs": [
    {
     "name": "stdout",
     "output_type": "stream",
     "text": [
      "Первый регион\n",
      "Средняя прибыль: 425.9 млн. руб.\n",
      "Убыточных шахт: 0.06\n",
      "95%-ый доверительный интервал: от -102.1 до 948.0 млн. руб.\n"
     ]
    }
   ],
   "source": [
    "boot_t_1 = target_valid_1.reset_index(drop = True)\n",
    "boot_p_1 = pd.Series(predictions_valid_1)\n",
    "\n",
    "def revenue(target, probabilities, count):\n",
    "    probs_sorted = probabilities.sort_values(ascending=False)\n",
    "    selected = target[probs_sorted.index][:count]\n",
    "    return (selected.sum()  * COST_PRODUCT)  - BUDGET\n",
    "\n",
    "STATE = np.random.RandomState(12345)\n",
    "    \n",
    "values_1 = []\n",
    "for i in range(1000):\n",
    "    target_subsample = boot_t_1.sample(n=500, replace=True, random_state=STATE)\n",
    "    probs_subsample = boot_p_1[target_subsample.index]\n",
    "    rev = revenue(target_subsample,probs_subsample,200)\n",
    "    values_1.append(rev)\n",
    "    \n",
    "values_1 = pd.Series(values_1)\n",
    "lower_1 = values_1.quantile(0.025)\n",
    "upper_1 = values_1.quantile(0.975)\n",
    "mean_1 = values_1.mean()\n",
    "print('Первый регион')\n",
    "print(f'Средняя прибыль: {mean_1 / 1000000:.1f} млн. руб.')\n",
    "print('Убыточных шахт:',(values_1 < 0).mean())\n",
    "print(f'95%-ый доверительный интервал: от {lower_1/1000000:.1f} до {upper_1/1000000:.1f} млн. руб.')"
   ]
  },
  {
   "cell_type": "code",
   "execution_count": 35,
   "metadata": {},
   "outputs": [
    {
     "name": "stdout",
     "output_type": "stream",
     "text": [
      "Второй регион\n",
      "Средняя прибыль: 515.2 млн. руб.\n",
      "Убыточных шахт: 0.01\n",
      "95%-ый доверительный интервал: от 68.9 до 931.5 млн. руб.\n"
     ]
    }
   ],
   "source": [
    "boot_t_2 = target_valid_2.reset_index(drop = True)\n",
    "boot_p_2 = pd.Series(predictions_valid_2)\n",
    "\n",
    "def revenue(target, probabilities, count):\n",
    "    probs_sorted = probabilities.sort_values(ascending=False)\n",
    "    selected = target[probs_sorted.index][:count]\n",
    "    return (selected.sum()  * COST_PRODUCT) - BUDGET\n",
    "\n",
    "STATE = np.random.RandomState(12345)\n",
    "    \n",
    "values_2 = []\n",
    "for i in range(1000):\n",
    "    target_subsample = boot_t_2.sample(n=500, replace=True, random_state=STATE)\n",
    "    probs_subsample = boot_p_2[target_subsample.index]\n",
    "    rev = revenue(target_subsample,probs_subsample,200)\n",
    "    values_2.append(rev)\n",
    "    \n",
    "values_2 = pd.Series(values_2)\n",
    "lower_2 = values_2.quantile(0.025)\n",
    "upper_2 = values_2.quantile(0.975)\n",
    "mean_2 = values_2.mean()\n",
    "print('Второй регион')\n",
    "print(f'Средняя прибыль: {mean_2 / 1000000:.1f} млн. руб.')\n",
    "print('Убыточных шахт:',(values_2 < 0).mean())\n",
    "print(f'95%-ый доверительный интервал: от {lower_2/1000000:.1f} до {upper_2/1000000:.1f} млн. руб.')"
   ]
  },
  {
   "cell_type": "code",
   "execution_count": 36,
   "metadata": {},
   "outputs": [
    {
     "name": "stdout",
     "output_type": "stream",
     "text": [
      "третий регион\n",
      "Средняя прибыль: 435.0 млн. руб.\n",
      "Убыточных шахт: 0.064\n",
      "95%-ый доверительный интервал: от -128.9 до 969.7 млн. руб.\n"
     ]
    }
   ],
   "source": [
    "boot_t_3 = target_valid_3.reset_index(drop = True)\n",
    "boot_p_3 = pd.Series(predictions_valid_3)\n",
    "\n",
    "def revenue(target, probabilities, count):\n",
    "    probs_sorted = probabilities.sort_values(ascending=False)\n",
    "    selected = target[probs_sorted.index][:count]\n",
    "    return (selected.sum()  * COST_PRODUCT) - BUDGET\n",
    "\n",
    "STATE = np.random.RandomState(12345)\n",
    "    \n",
    "values_3 = []\n",
    "for i in range(1000):\n",
    "    target_subsample = boot_t_3.sample(n=500, replace=True, random_state=STATE)\n",
    "    probs_subsample = boot_p_3[target_subsample.index]\n",
    "    rev = revenue(target_subsample,probs_subsample,200)\n",
    "    values_3.append(rev)\n",
    "    \n",
    "values_3 = pd.Series(values_3)\n",
    "lower_3 = values_3.quantile(0.025)\n",
    "upper_3 = values_3.quantile(0.975)\n",
    "mean_3 = values_3.mean()\n",
    "print('третий регион')\n",
    "print(f'Средняя прибыль: {mean_3 / 1000000:.1f} млн. руб.')\n",
    "print('Убыточных шахт:',(values_3 < 0).mean())\n",
    "print(f'95%-ый доверительный интервал: от {lower_3/1000000:.1f} до {upper_3/1000000:.1f} млн. руб.')"
   ]
  },
  {
   "cell_type": "markdown",
   "metadata": {},
   "source": [
    "## Выводы"
   ]
  },
  {
   "cell_type": "markdown",
   "metadata": {},
   "source": [
    "1. Открыты, проанализироаъваны и проверены данные с треёх регионов.\n",
    "2. Проведена разбивка на две выборки в каждом регионе.\n",
    "3. Обучена модель и сделаны предсказания для каждого региона.\n",
    " - Предсказан наибольший объем сырья - 3 регион, 94,8 млн. бар., RMSE = 40.\n",
    " - Самый точный прогноз - 2 регион,68,7 млн. бар., RMSE = 0,8\n",
    "4. Обнаружена сильная корреляция между запасом нефти и признаком f2. Необходимо изучить отдельно качество и систему сбора данных по нему.\n",
    "5. Создана формула для расчёта дохода с региона.\n",
    "    - Самый прибыльный регион - Первый.\n",
    "6. Проведён бутстреп для трёх регионов: максимальная среддняя прибыль - второй регион.\n",
    "\n",
    "Рекомендация: Для разработки необходимо выбрать второй участок.\n",
    "\n",
    "Обоснование: По условиям задачи, уровень риска должен быть ниже 2,5%. В доверительном инетрвале 1 и 3 региона присутсвуют отрицательные значения. Большая средняя прибыльность при минимальной убыточности у второго региона - 515 млн р."
   ]
  }
 ],
 "metadata": {
  "ExecuteTimeLog": [
   {
    "duration": 959,
    "start_time": "2022-05-30T06:12:41.092Z"
   },
   {
    "duration": 783,
    "start_time": "2022-05-30T06:15:02.572Z"
   },
   {
    "duration": 18,
    "start_time": "2022-05-30T06:15:48.337Z"
   },
   {
    "duration": 12,
    "start_time": "2022-05-30T06:16:05.644Z"
   },
   {
    "duration": 13,
    "start_time": "2022-05-30T06:16:12.870Z"
   },
   {
    "duration": 15,
    "start_time": "2022-05-30T06:16:46.500Z"
   },
   {
    "duration": 121,
    "start_time": "2022-05-30T06:17:06.022Z"
   },
   {
    "duration": 47,
    "start_time": "2022-05-30T06:17:10.599Z"
   },
   {
    "duration": 47,
    "start_time": "2022-05-30T06:17:18.125Z"
   },
   {
    "duration": 16,
    "start_time": "2022-05-30T06:17:36.732Z"
   },
   {
    "duration": 42,
    "start_time": "2022-05-30T06:17:42.745Z"
   },
   {
    "duration": 14,
    "start_time": "2022-05-30T06:19:54.557Z"
   },
   {
    "duration": 53,
    "start_time": "2022-05-30T06:20:01.803Z"
   },
   {
    "duration": 2,
    "start_time": "2022-05-30T06:23:21.367Z"
   },
   {
    "duration": 2,
    "start_time": "2022-05-30T06:26:32.064Z"
   },
   {
    "duration": 12,
    "start_time": "2022-05-30T06:26:35.804Z"
   },
   {
    "duration": 11,
    "start_time": "2022-05-30T06:26:59.760Z"
   },
   {
    "duration": 22,
    "start_time": "2022-05-30T06:27:04.940Z"
   },
   {
    "duration": 21,
    "start_time": "2022-05-30T06:28:55.214Z"
   },
   {
    "duration": 23,
    "start_time": "2022-05-30T06:28:56.230Z"
   },
   {
    "duration": 2,
    "start_time": "2022-05-30T06:31:47.156Z"
   },
   {
    "duration": 38,
    "start_time": "2022-05-30T06:39:07.367Z"
   },
   {
    "duration": 7,
    "start_time": "2022-05-30T06:40:18.234Z"
   },
   {
    "duration": 10,
    "start_time": "2022-05-30T06:40:20.950Z"
   },
   {
    "duration": 6,
    "start_time": "2022-05-30T06:40:33.539Z"
   },
   {
    "duration": 6,
    "start_time": "2022-05-30T06:40:45.836Z"
   },
   {
    "duration": 3,
    "start_time": "2022-05-30T06:41:25.745Z"
   },
   {
    "duration": 15,
    "start_time": "2022-05-30T06:41:26.282Z"
   },
   {
    "duration": 18,
    "start_time": "2022-05-30T06:41:26.857Z"
   },
   {
    "duration": 16,
    "start_time": "2022-05-30T06:41:28.297Z"
   },
   {
    "duration": 16,
    "start_time": "2022-05-30T06:41:29.547Z"
   },
   {
    "duration": 12,
    "start_time": "2022-05-30T06:42:03.322Z"
   },
   {
    "duration": 13,
    "start_time": "2022-05-30T06:42:03.714Z"
   },
   {
    "duration": 12,
    "start_time": "2022-05-30T06:42:04.403Z"
   },
   {
    "duration": 19,
    "start_time": "2022-05-30T06:42:05.779Z"
   },
   {
    "duration": 15,
    "start_time": "2022-05-30T06:43:48.896Z"
   },
   {
    "duration": 14,
    "start_time": "2022-05-30T06:43:49.489Z"
   },
   {
    "duration": 5,
    "start_time": "2022-05-30T06:46:29.187Z"
   },
   {
    "duration": 5,
    "start_time": "2022-05-30T06:47:02.618Z"
   },
   {
    "duration": 4,
    "start_time": "2022-05-30T06:47:09.705Z"
   },
   {
    "duration": 17,
    "start_time": "2022-05-30T06:49:32.630Z"
   },
   {
    "duration": 16,
    "start_time": "2022-05-30T06:49:33.889Z"
   },
   {
    "duration": 16,
    "start_time": "2022-05-30T06:49:34.857Z"
   },
   {
    "duration": 15,
    "start_time": "2022-05-30T06:49:40.778Z"
   },
   {
    "duration": 2,
    "start_time": "2022-05-30T06:59:56.610Z"
   },
   {
    "duration": 3,
    "start_time": "2022-05-30T07:02:34.015Z"
   },
   {
    "duration": 3,
    "start_time": "2022-05-30T07:04:51.503Z"
   },
   {
    "duration": 2,
    "start_time": "2022-05-30T07:08:37.178Z"
   },
   {
    "duration": 4,
    "start_time": "2022-05-30T07:10:52.934Z"
   },
   {
    "duration": 5,
    "start_time": "2022-05-30T07:11:33.774Z"
   },
   {
    "duration": 5,
    "start_time": "2022-05-30T07:11:34.253Z"
   },
   {
    "duration": 6,
    "start_time": "2022-05-30T07:30:52.548Z"
   },
   {
    "duration": 4,
    "start_time": "2022-05-30T07:31:29.755Z"
   },
   {
    "duration": 4,
    "start_time": "2022-05-30T07:32:57.240Z"
   },
   {
    "duration": 8,
    "start_time": "2022-05-30T07:41:29.719Z"
   },
   {
    "duration": 8,
    "start_time": "2022-05-30T07:41:50.776Z"
   },
   {
    "duration": 4,
    "start_time": "2022-05-30T07:42:01.222Z"
   },
   {
    "duration": 8,
    "start_time": "2022-05-30T07:42:10.624Z"
   },
   {
    "duration": 8,
    "start_time": "2022-05-30T07:42:27.431Z"
   },
   {
    "duration": 4,
    "start_time": "2022-05-30T07:42:31.527Z"
   },
   {
    "duration": 12,
    "start_time": "2022-05-30T07:42:42.246Z"
   },
   {
    "duration": 5,
    "start_time": "2022-05-30T07:43:10.302Z"
   },
   {
    "duration": 8,
    "start_time": "2022-05-30T07:43:21.142Z"
   },
   {
    "duration": 9,
    "start_time": "2022-05-30T07:43:32.126Z"
   },
   {
    "duration": 10,
    "start_time": "2022-05-30T07:43:35.767Z"
   },
   {
    "duration": 9,
    "start_time": "2022-05-30T07:43:38.958Z"
   },
   {
    "duration": 9,
    "start_time": "2022-05-30T07:43:58.566Z"
   },
   {
    "duration": 9,
    "start_time": "2022-05-30T07:44:05.918Z"
   },
   {
    "duration": 9,
    "start_time": "2022-05-30T07:45:31.488Z"
   },
   {
    "duration": 9,
    "start_time": "2022-05-30T07:45:49.375Z"
   },
   {
    "duration": 14,
    "start_time": "2022-05-30T07:46:02.983Z"
   },
   {
    "duration": 8,
    "start_time": "2022-05-30T07:46:13.035Z"
   },
   {
    "duration": 20,
    "start_time": "2022-05-30T07:46:34.630Z"
   },
   {
    "duration": 6,
    "start_time": "2022-05-30T07:47:01.911Z"
   },
   {
    "duration": 8,
    "start_time": "2022-05-30T07:47:06.952Z"
   },
   {
    "duration": 16,
    "start_time": "2022-05-30T07:47:17.777Z"
   },
   {
    "duration": 17,
    "start_time": "2022-05-30T07:47:23.319Z"
   },
   {
    "duration": 8,
    "start_time": "2022-05-30T07:48:25.111Z"
   },
   {
    "duration": 17,
    "start_time": "2022-05-30T07:48:26.735Z"
   },
   {
    "duration": 17,
    "start_time": "2022-05-30T07:48:43.088Z"
   },
   {
    "duration": 7,
    "start_time": "2022-05-30T07:48:51.246Z"
   },
   {
    "duration": 17,
    "start_time": "2022-05-30T07:48:57.656Z"
   },
   {
    "duration": 12,
    "start_time": "2022-05-30T07:49:16.871Z"
   },
   {
    "duration": 546,
    "start_time": "2022-05-30T07:49:24.127Z"
   },
   {
    "duration": 454,
    "start_time": "2022-05-30T07:49:40.759Z"
   },
   {
    "duration": 10,
    "start_time": "2022-05-30T07:49:46.719Z"
   },
   {
    "duration": 4,
    "start_time": "2022-05-30T07:50:35.441Z"
   },
   {
    "duration": 12,
    "start_time": "2022-05-30T07:50:41.638Z"
   },
   {
    "duration": 17,
    "start_time": "2022-05-30T07:52:31.409Z"
   },
   {
    "duration": 2,
    "start_time": "2022-05-30T07:52:37.350Z"
   },
   {
    "duration": 13,
    "start_time": "2022-05-30T07:53:07.046Z"
   },
   {
    "duration": 4,
    "start_time": "2022-05-30T07:54:55.599Z"
   },
   {
    "duration": 6,
    "start_time": "2022-05-30T07:55:05.176Z"
   },
   {
    "duration": 13,
    "start_time": "2022-05-30T07:55:10.103Z"
   },
   {
    "duration": 13,
    "start_time": "2022-05-30T07:55:20.038Z"
   },
   {
    "duration": 12,
    "start_time": "2022-05-30T07:55:50.534Z"
   },
   {
    "duration": 11,
    "start_time": "2022-05-30T09:35:07.836Z"
   },
   {
    "duration": 40,
    "start_time": "2022-05-30T09:35:13.225Z"
   },
   {
    "duration": 21,
    "start_time": "2022-05-30T09:35:17.663Z"
   },
   {
    "duration": 36,
    "start_time": "2022-05-30T09:35:32.792Z"
   },
   {
    "duration": 14,
    "start_time": "2022-05-30T09:35:42.199Z"
   },
   {
    "duration": 3,
    "start_time": "2022-05-30T09:38:21.859Z"
   },
   {
    "duration": 9,
    "start_time": "2022-05-30T09:39:34.800Z"
   },
   {
    "duration": 4,
    "start_time": "2022-05-30T09:39:57.198Z"
   },
   {
    "duration": 15,
    "start_time": "2022-05-30T09:39:57.559Z"
   },
   {
    "duration": 2,
    "start_time": "2022-05-30T09:40:09.359Z"
   },
   {
    "duration": 8,
    "start_time": "2022-05-30T09:40:09.957Z"
   },
   {
    "duration": 8,
    "start_time": "2022-05-30T09:40:32.095Z"
   },
   {
    "duration": 9,
    "start_time": "2022-05-30T09:41:12.688Z"
   },
   {
    "duration": 7,
    "start_time": "2022-05-30T09:41:13.581Z"
   },
   {
    "duration": 12,
    "start_time": "2022-05-30T09:43:52.850Z"
   },
   {
    "duration": 3,
    "start_time": "2022-05-30T09:44:06.382Z"
   },
   {
    "duration": 7,
    "start_time": "2022-05-30T09:44:06.901Z"
   },
   {
    "duration": 7,
    "start_time": "2022-05-30T09:44:07.846Z"
   },
   {
    "duration": 8,
    "start_time": "2022-05-30T09:44:08.165Z"
   },
   {
    "duration": 11,
    "start_time": "2022-05-30T09:44:17.242Z"
   },
   {
    "duration": 8,
    "start_time": "2022-05-30T09:44:17.773Z"
   },
   {
    "duration": 8,
    "start_time": "2022-05-30T09:45:14.823Z"
   },
   {
    "duration": 7,
    "start_time": "2022-05-30T09:45:17.085Z"
   },
   {
    "duration": 8,
    "start_time": "2022-05-30T09:45:18.113Z"
   },
   {
    "duration": 50,
    "start_time": "2022-05-30T09:47:27.972Z"
   },
   {
    "duration": 14,
    "start_time": "2022-05-30T09:49:40.628Z"
   },
   {
    "duration": 6,
    "start_time": "2022-05-30T09:49:40.964Z"
   },
   {
    "duration": 7,
    "start_time": "2022-05-30T09:49:41.276Z"
   },
   {
    "duration": 14,
    "start_time": "2022-05-30T10:18:40.211Z"
   },
   {
    "duration": 20,
    "start_time": "2022-05-30T10:19:11.922Z"
   },
   {
    "duration": 14,
    "start_time": "2022-05-30T10:20:13.649Z"
   },
   {
    "duration": 18,
    "start_time": "2022-05-30T10:21:13.041Z"
   },
   {
    "duration": 6,
    "start_time": "2022-05-30T10:21:15.472Z"
   },
   {
    "duration": 5,
    "start_time": "2022-05-30T10:21:22.047Z"
   },
   {
    "duration": 7,
    "start_time": "2022-05-30T10:22:50.639Z"
   },
   {
    "duration": 935,
    "start_time": "2022-05-30T12:36:41.970Z"
   },
   {
    "duration": 874,
    "start_time": "2022-05-30T12:36:42.907Z"
   },
   {
    "duration": 82,
    "start_time": "2022-05-30T12:36:43.783Z"
   },
   {
    "duration": 23,
    "start_time": "2022-05-30T12:36:43.868Z"
   },
   {
    "duration": 81,
    "start_time": "2022-05-30T12:36:43.893Z"
   },
   {
    "duration": 7,
    "start_time": "2022-05-30T12:36:43.975Z"
   },
   {
    "duration": 16,
    "start_time": "2022-05-30T12:36:43.984Z"
   },
   {
    "duration": 17,
    "start_time": "2022-05-30T12:36:44.002Z"
   },
   {
    "duration": 74,
    "start_time": "2022-05-30T12:36:44.021Z"
   },
   {
    "duration": 6,
    "start_time": "2022-05-30T12:36:44.099Z"
   },
   {
    "duration": 17,
    "start_time": "2022-05-30T12:36:44.108Z"
   },
   {
    "duration": 32,
    "start_time": "2022-05-30T12:36:44.140Z"
   },
   {
    "duration": 50,
    "start_time": "2022-05-30T12:36:44.174Z"
   },
   {
    "duration": 8,
    "start_time": "2022-05-30T12:36:44.226Z"
   },
   {
    "duration": 16,
    "start_time": "2022-05-30T12:36:44.236Z"
   },
   {
    "duration": 28,
    "start_time": "2022-05-30T12:36:44.254Z"
   },
   {
    "duration": 23,
    "start_time": "2022-05-30T12:36:44.284Z"
   },
   {
    "duration": 19,
    "start_time": "2022-05-30T12:36:44.310Z"
   },
   {
    "duration": 38,
    "start_time": "2022-05-30T12:36:44.332Z"
   },
   {
    "duration": 199,
    "start_time": "2022-05-30T12:36:44.372Z"
   },
   {
    "duration": 183,
    "start_time": "2022-05-30T12:36:44.573Z"
   },
   {
    "duration": 8,
    "start_time": "2022-05-30T12:36:44.758Z"
   },
   {
    "duration": 7,
    "start_time": "2022-05-30T12:36:44.853Z"
   },
   {
    "duration": 25,
    "start_time": "2022-05-30T12:36:44.861Z"
   },
   {
    "duration": 5,
    "start_time": "2022-05-30T12:36:44.888Z"
   },
   {
    "duration": 12,
    "start_time": "2022-05-30T12:36:44.895Z"
   },
   {
    "duration": 7,
    "start_time": "2022-05-30T12:36:44.909Z"
   },
   {
    "duration": 36,
    "start_time": "2022-05-30T12:36:44.920Z"
   },
   {
    "duration": 138,
    "start_time": "2022-05-30T12:36:44.958Z"
   },
   {
    "duration": 12,
    "start_time": "2022-05-30T12:38:31.588Z"
   },
   {
    "duration": 20,
    "start_time": "2022-05-30T12:38:53.971Z"
   },
   {
    "duration": 3346,
    "start_time": "2022-05-30T12:42:53.391Z"
   },
   {
    "duration": 635,
    "start_time": "2022-05-30T12:43:43.385Z"
   },
   {
    "duration": 624,
    "start_time": "2022-05-30T12:44:20.458Z"
   },
   {
    "duration": 615,
    "start_time": "2022-05-30T12:44:23.104Z"
   },
   {
    "duration": 647,
    "start_time": "2022-05-30T12:51:32.768Z"
   },
   {
    "duration": 697,
    "start_time": "2022-05-30T13:06:50.079Z"
   },
   {
    "duration": 11,
    "start_time": "2022-05-30T13:07:40.872Z"
   },
   {
    "duration": 664,
    "start_time": "2022-05-30T13:07:46.003Z"
   },
   {
    "duration": 5,
    "start_time": "2022-05-30T13:09:12.850Z"
   },
   {
    "duration": 6,
    "start_time": "2022-05-30T13:10:00.321Z"
   },
   {
    "duration": 623,
    "start_time": "2022-05-30T13:11:33.276Z"
   },
   {
    "duration": 637,
    "start_time": "2022-05-30T13:11:43.090Z"
   },
   {
    "duration": 612,
    "start_time": "2022-05-30T13:11:50.808Z"
   },
   {
    "duration": 5,
    "start_time": "2022-05-30T13:12:49.634Z"
   },
   {
    "duration": 11,
    "start_time": "2022-05-30T13:13:11.937Z"
   },
   {
    "duration": 3,
    "start_time": "2022-05-30T13:13:23.632Z"
   },
   {
    "duration": 435,
    "start_time": "2022-05-30T13:13:27.957Z"
   },
   {
    "duration": 464,
    "start_time": "2022-05-30T13:15:02.514Z"
   },
   {
    "duration": 426,
    "start_time": "2022-05-30T13:15:18.525Z"
   },
   {
    "duration": 416,
    "start_time": "2022-05-30T13:15:52.073Z"
   },
   {
    "duration": 426,
    "start_time": "2022-05-30T13:17:41.607Z"
   },
   {
    "duration": 459,
    "start_time": "2022-05-30T13:18:14.505Z"
   },
   {
    "duration": 794,
    "start_time": "2022-05-30T21:12:32.463Z"
   },
   {
    "duration": 732,
    "start_time": "2022-05-30T21:12:33.259Z"
   },
   {
    "duration": 61,
    "start_time": "2022-05-30T21:12:33.992Z"
   },
   {
    "duration": 14,
    "start_time": "2022-05-30T21:12:34.055Z"
   },
   {
    "duration": 38,
    "start_time": "2022-05-30T21:12:34.071Z"
   },
   {
    "duration": 18,
    "start_time": "2022-05-30T21:12:34.110Z"
   },
   {
    "duration": 13,
    "start_time": "2022-05-30T21:12:34.130Z"
   },
   {
    "duration": 14,
    "start_time": "2022-05-30T21:12:34.144Z"
   },
   {
    "duration": 34,
    "start_time": "2022-05-30T21:12:34.159Z"
   },
   {
    "duration": 5,
    "start_time": "2022-05-30T21:12:34.194Z"
   },
   {
    "duration": 35,
    "start_time": "2022-05-30T21:12:34.200Z"
   },
   {
    "duration": 14,
    "start_time": "2022-05-30T21:12:34.236Z"
   },
   {
    "duration": 40,
    "start_time": "2022-05-30T21:12:34.251Z"
   },
   {
    "duration": 4,
    "start_time": "2022-05-30T21:12:34.294Z"
   },
   {
    "duration": 7,
    "start_time": "2022-05-30T21:12:34.300Z"
   },
   {
    "duration": 27,
    "start_time": "2022-05-30T21:12:34.308Z"
   },
   {
    "duration": 15,
    "start_time": "2022-05-30T21:12:34.336Z"
   },
   {
    "duration": 16,
    "start_time": "2022-05-30T21:12:34.352Z"
   },
   {
    "duration": 61,
    "start_time": "2022-05-30T21:12:34.370Z"
   },
   {
    "duration": 106,
    "start_time": "2022-05-30T21:12:34.433Z"
   },
   {
    "duration": 195,
    "start_time": "2022-05-30T21:12:34.541Z"
   },
   {
    "duration": 89,
    "start_time": "2022-05-30T21:12:34.738Z"
   },
   {
    "duration": 103,
    "start_time": "2022-05-30T21:12:34.829Z"
   },
   {
    "duration": 13,
    "start_time": "2022-05-30T21:12:34.934Z"
   },
   {
    "duration": 3,
    "start_time": "2022-05-30T21:12:34.948Z"
   },
   {
    "duration": 8,
    "start_time": "2022-05-30T21:12:34.953Z"
   },
   {
    "duration": 6,
    "start_time": "2022-05-30T21:12:34.962Z"
   },
   {
    "duration": 6,
    "start_time": "2022-05-30T21:12:34.970Z"
   },
   {
    "duration": 384,
    "start_time": "2022-05-30T21:12:34.977Z"
   },
   {
    "duration": 347,
    "start_time": "2022-05-30T21:12:35.362Z"
   },
   {
    "duration": 5,
    "start_time": "2022-05-30T21:12:35.710Z"
   },
   {
    "duration": 349,
    "start_time": "2022-05-30T21:12:35.716Z"
   },
   {
    "duration": 408,
    "start_time": "2022-05-30T21:12:36.066Z"
   },
   {
    "duration": 8,
    "start_time": "2022-05-30T21:15:16.315Z"
   },
   {
    "duration": 7,
    "start_time": "2022-05-30T21:15:16.567Z"
   },
   {
    "duration": 7,
    "start_time": "2022-05-30T21:15:16.897Z"
   },
   {
    "duration": 7,
    "start_time": "2022-05-30T21:17:25.418Z"
   },
   {
    "duration": 27,
    "start_time": "2022-05-30T21:17:44.545Z"
   },
   {
    "duration": 6,
    "start_time": "2022-05-30T21:18:04.068Z"
   },
   {
    "duration": 6,
    "start_time": "2022-05-30T21:18:19.399Z"
   },
   {
    "duration": 7,
    "start_time": "2022-05-30T21:18:25.236Z"
   },
   {
    "duration": 7,
    "start_time": "2022-05-30T21:18:31.223Z"
   },
   {
    "duration": 7,
    "start_time": "2022-05-30T21:20:48.819Z"
   },
   {
    "duration": 6,
    "start_time": "2022-05-30T21:21:38.611Z"
   },
   {
    "duration": 8,
    "start_time": "2022-05-30T21:21:43.338Z"
   },
   {
    "duration": 7,
    "start_time": "2022-05-30T21:21:43.617Z"
   },
   {
    "duration": 758,
    "start_time": "2022-05-31T04:13:49.850Z"
   },
   {
    "duration": 769,
    "start_time": "2022-05-31T04:13:50.610Z"
   },
   {
    "duration": 63,
    "start_time": "2022-05-31T04:13:51.381Z"
   },
   {
    "duration": 13,
    "start_time": "2022-05-31T04:13:51.445Z"
   },
   {
    "duration": 53,
    "start_time": "2022-05-31T04:13:51.459Z"
   },
   {
    "duration": 5,
    "start_time": "2022-05-31T04:13:51.514Z"
   },
   {
    "duration": 13,
    "start_time": "2022-05-31T04:13:51.520Z"
   },
   {
    "duration": 14,
    "start_time": "2022-05-31T04:13:51.534Z"
   },
   {
    "duration": 54,
    "start_time": "2022-05-31T04:13:51.549Z"
   },
   {
    "duration": 5,
    "start_time": "2022-05-31T04:13:51.606Z"
   },
   {
    "duration": 14,
    "start_time": "2022-05-31T04:13:51.612Z"
   },
   {
    "duration": 15,
    "start_time": "2022-05-31T04:13:51.627Z"
   },
   {
    "duration": 58,
    "start_time": "2022-05-31T04:13:51.643Z"
   },
   {
    "duration": 4,
    "start_time": "2022-05-31T04:13:51.703Z"
   },
   {
    "duration": 5,
    "start_time": "2022-05-31T04:13:51.709Z"
   },
   {
    "duration": 14,
    "start_time": "2022-05-31T04:13:51.716Z"
   },
   {
    "duration": 14,
    "start_time": "2022-05-31T04:13:51.731Z"
   },
   {
    "duration": 13,
    "start_time": "2022-05-31T04:13:51.747Z"
   },
   {
    "duration": 39,
    "start_time": "2022-05-31T04:13:51.762Z"
   },
   {
    "duration": 189,
    "start_time": "2022-05-31T04:13:51.802Z"
   },
   {
    "duration": 115,
    "start_time": "2022-05-31T04:13:51.994Z"
   },
   {
    "duration": 81,
    "start_time": "2022-05-31T04:13:52.111Z"
   },
   {
    "duration": 97,
    "start_time": "2022-05-31T04:13:52.198Z"
   },
   {
    "duration": 12,
    "start_time": "2022-05-31T04:13:52.297Z"
   },
   {
    "duration": 3,
    "start_time": "2022-05-31T04:13:52.311Z"
   },
   {
    "duration": 8,
    "start_time": "2022-05-31T04:13:52.316Z"
   },
   {
    "duration": 6,
    "start_time": "2022-05-31T04:13:52.326Z"
   },
   {
    "duration": 6,
    "start_time": "2022-05-31T04:13:52.335Z"
   },
   {
    "duration": 395,
    "start_time": "2022-05-31T04:13:52.343Z"
   },
   {
    "duration": 360,
    "start_time": "2022-05-31T04:13:52.739Z"
   },
   {
    "duration": 104,
    "start_time": "2022-05-31T04:13:53.101Z"
   },
   {
    "duration": 0,
    "start_time": "2022-05-31T04:13:53.206Z"
   },
   {
    "duration": 3,
    "start_time": "2022-05-31T04:15:27.106Z"
   },
   {
    "duration": 17,
    "start_time": "2022-05-31T04:17:55.007Z"
   },
   {
    "duration": 362,
    "start_time": "2022-05-31T04:19:32.687Z"
   },
   {
    "duration": 902,
    "start_time": "2022-05-31T04:19:42.543Z"
   },
   {
    "duration": 335,
    "start_time": "2022-05-31T04:19:43.447Z"
   },
   {
    "duration": 61,
    "start_time": "2022-05-31T04:19:43.783Z"
   },
   {
    "duration": 13,
    "start_time": "2022-05-31T04:19:43.846Z"
   },
   {
    "duration": 60,
    "start_time": "2022-05-31T04:19:43.861Z"
   },
   {
    "duration": 5,
    "start_time": "2022-05-31T04:19:43.922Z"
   },
   {
    "duration": 14,
    "start_time": "2022-05-31T04:19:43.929Z"
   },
   {
    "duration": 15,
    "start_time": "2022-05-31T04:19:43.945Z"
   },
   {
    "duration": 59,
    "start_time": "2022-05-31T04:19:43.962Z"
   },
   {
    "duration": 5,
    "start_time": "2022-05-31T04:19:44.023Z"
   },
   {
    "duration": 12,
    "start_time": "2022-05-31T04:19:44.029Z"
   },
   {
    "duration": 13,
    "start_time": "2022-05-31T04:19:44.043Z"
   },
   {
    "duration": 53,
    "start_time": "2022-05-31T04:19:44.058Z"
   },
   {
    "duration": 5,
    "start_time": "2022-05-31T04:19:44.113Z"
   },
   {
    "duration": 5,
    "start_time": "2022-05-31T04:19:44.119Z"
   },
   {
    "duration": 13,
    "start_time": "2022-05-31T04:19:44.125Z"
   },
   {
    "duration": 13,
    "start_time": "2022-05-31T04:19:44.140Z"
   },
   {
    "duration": 13,
    "start_time": "2022-05-31T04:19:44.155Z"
   },
   {
    "duration": 50,
    "start_time": "2022-05-31T04:19:44.169Z"
   },
   {
    "duration": 100,
    "start_time": "2022-05-31T04:19:44.292Z"
   },
   {
    "duration": 101,
    "start_time": "2022-05-31T04:19:44.394Z"
   },
   {
    "duration": 7,
    "start_time": "2022-05-31T04:19:44.497Z"
   },
   {
    "duration": 100,
    "start_time": "2022-05-31T04:19:44.506Z"
   },
   {
    "duration": 14,
    "start_time": "2022-05-31T04:19:44.692Z"
   },
   {
    "duration": 3,
    "start_time": "2022-05-31T04:19:44.708Z"
   },
   {
    "duration": 10,
    "start_time": "2022-05-31T04:19:44.712Z"
   },
   {
    "duration": 7,
    "start_time": "2022-05-31T04:19:44.723Z"
   },
   {
    "duration": 6,
    "start_time": "2022-05-31T04:19:44.733Z"
   },
   {
    "duration": 410,
    "start_time": "2022-05-31T04:19:44.740Z"
   },
   {
    "duration": 394,
    "start_time": "2022-05-31T04:19:45.151Z"
   },
   {
    "duration": 360,
    "start_time": "2022-05-31T04:19:45.547Z"
   },
   {
    "duration": 372,
    "start_time": "2022-05-31T04:19:45.908Z"
   },
   {
    "duration": 363,
    "start_time": "2022-05-31T04:20:11.682Z"
   },
   {
    "duration": 27,
    "start_time": "2022-05-31T04:22:58.127Z"
   },
   {
    "duration": 361,
    "start_time": "2022-05-31T04:23:16.556Z"
   },
   {
    "duration": 351,
    "start_time": "2022-05-31T04:23:40.322Z"
   },
   {
    "duration": 375,
    "start_time": "2022-05-31T04:23:59.806Z"
   },
   {
    "duration": 367,
    "start_time": "2022-05-31T04:24:11.296Z"
   },
   {
    "duration": 29,
    "start_time": "2022-05-31T04:24:55.561Z"
   },
   {
    "duration": 453,
    "start_time": "2022-05-31T04:24:59.522Z"
   },
   {
    "duration": 358,
    "start_time": "2022-05-31T04:25:07.484Z"
   },
   {
    "duration": 465,
    "start_time": "2022-05-31T04:25:44.843Z"
   },
   {
    "duration": 448,
    "start_time": "2022-05-31T04:25:45.312Z"
   },
   {
    "duration": 330,
    "start_time": "2022-05-31T04:28:39.854Z"
   },
   {
    "duration": 11,
    "start_time": "2022-05-31T04:28:44.075Z"
   },
   {
    "duration": 13,
    "start_time": "2022-05-31T04:28:45.307Z"
   },
   {
    "duration": 40,
    "start_time": "2022-05-31T04:28:48.069Z"
   },
   {
    "duration": 18,
    "start_time": "2022-05-31T04:28:48.706Z"
   },
   {
    "duration": 19,
    "start_time": "2022-05-31T04:30:53.066Z"
   },
   {
    "duration": 26,
    "start_time": "2022-05-31T04:31:04.347Z"
   },
   {
    "duration": 829,
    "start_time": "2022-05-31T04:32:31.973Z"
   },
   {
    "duration": 336,
    "start_time": "2022-05-31T04:32:32.804Z"
   },
   {
    "duration": 61,
    "start_time": "2022-05-31T04:32:33.142Z"
   },
   {
    "duration": 12,
    "start_time": "2022-05-31T04:32:33.205Z"
   },
   {
    "duration": 40,
    "start_time": "2022-05-31T04:32:33.219Z"
   },
   {
    "duration": 40,
    "start_time": "2022-05-31T04:32:33.261Z"
   },
   {
    "duration": 5,
    "start_time": "2022-05-31T04:32:33.303Z"
   },
   {
    "duration": 13,
    "start_time": "2022-05-31T04:32:33.309Z"
   },
   {
    "duration": 15,
    "start_time": "2022-05-31T04:32:33.323Z"
   },
   {
    "duration": 54,
    "start_time": "2022-05-31T04:32:33.339Z"
   },
   {
    "duration": 24,
    "start_time": "2022-05-31T04:32:33.395Z"
   },
   {
    "duration": 6,
    "start_time": "2022-05-31T04:32:33.420Z"
   },
   {
    "duration": 23,
    "start_time": "2022-05-31T04:32:33.427Z"
   },
   {
    "duration": 41,
    "start_time": "2022-05-31T04:32:33.452Z"
   },
   {
    "duration": 42,
    "start_time": "2022-05-31T04:32:33.494Z"
   },
   {
    "duration": 62,
    "start_time": "2022-05-31T04:32:33.537Z"
   },
   {
    "duration": 5,
    "start_time": "2022-05-31T04:32:33.600Z"
   },
   {
    "duration": 5,
    "start_time": "2022-05-31T04:32:33.606Z"
   },
   {
    "duration": 16,
    "start_time": "2022-05-31T04:32:33.613Z"
   },
   {
    "duration": 68,
    "start_time": "2022-05-31T04:32:33.631Z"
   },
   {
    "duration": 14,
    "start_time": "2022-05-31T04:32:33.701Z"
   },
   {
    "duration": 78,
    "start_time": "2022-05-31T04:32:33.716Z"
   },
   {
    "duration": 108,
    "start_time": "2022-05-31T04:32:33.796Z"
   },
   {
    "duration": 192,
    "start_time": "2022-05-31T04:32:33.906Z"
   },
   {
    "duration": 95,
    "start_time": "2022-05-31T04:32:34.100Z"
   },
   {
    "duration": 97,
    "start_time": "2022-05-31T04:32:34.198Z"
   },
   {
    "duration": 11,
    "start_time": "2022-05-31T04:32:34.297Z"
   },
   {
    "duration": 2,
    "start_time": "2022-05-31T04:32:34.310Z"
   },
   {
    "duration": 9,
    "start_time": "2022-05-31T04:32:34.313Z"
   },
   {
    "duration": 7,
    "start_time": "2022-05-31T04:32:34.323Z"
   },
   {
    "duration": 7,
    "start_time": "2022-05-31T04:32:34.332Z"
   },
   {
    "duration": 399,
    "start_time": "2022-05-31T04:32:34.340Z"
   },
   {
    "duration": 381,
    "start_time": "2022-05-31T04:32:34.741Z"
   },
   {
    "duration": 391,
    "start_time": "2022-05-31T04:32:35.124Z"
   },
   {
    "duration": 14,
    "start_time": "2022-05-31T04:37:19.637Z"
   },
   {
    "duration": 14,
    "start_time": "2022-05-31T04:37:34.400Z"
   },
   {
    "duration": 13,
    "start_time": "2022-05-31T04:37:54.806Z"
   },
   {
    "duration": 14,
    "start_time": "2022-05-31T04:37:55.000Z"
   },
   {
    "duration": 18,
    "start_time": "2022-05-31T04:37:55.207Z"
   },
   {
    "duration": 13,
    "start_time": "2022-05-31T05:13:48.290Z"
   },
   {
    "duration": 6,
    "start_time": "2022-05-31T05:14:19.560Z"
   },
   {
    "duration": 6,
    "start_time": "2022-05-31T05:14:44.925Z"
   },
   {
    "duration": 6,
    "start_time": "2022-05-31T05:14:45.112Z"
   },
   {
    "duration": 7,
    "start_time": "2022-05-31T05:15:13.662Z"
   },
   {
    "duration": 6,
    "start_time": "2022-05-31T05:15:13.784Z"
   },
   {
    "duration": 6,
    "start_time": "2022-05-31T05:15:14.030Z"
   },
   {
    "duration": 6,
    "start_time": "2022-05-31T05:15:27.681Z"
   },
   {
    "duration": 6,
    "start_time": "2022-05-31T05:15:27.804Z"
   },
   {
    "duration": 799,
    "start_time": "2022-05-31T05:40:18.910Z"
   },
   {
    "duration": 338,
    "start_time": "2022-05-31T05:40:19.710Z"
   },
   {
    "duration": 62,
    "start_time": "2022-05-31T05:40:20.049Z"
   },
   {
    "duration": 14,
    "start_time": "2022-05-31T05:40:24.890Z"
   },
   {
    "duration": 43,
    "start_time": "2022-05-31T05:40:24.906Z"
   },
   {
    "duration": 43,
    "start_time": "2022-05-31T05:40:24.950Z"
   },
   {
    "duration": 6,
    "start_time": "2022-05-31T05:40:25.379Z"
   },
   {
    "duration": 14,
    "start_time": "2022-05-31T05:40:25.387Z"
   },
   {
    "duration": 15,
    "start_time": "2022-05-31T05:40:25.402Z"
   },
   {
    "duration": 40,
    "start_time": "2022-05-31T05:40:25.510Z"
   },
   {
    "duration": 26,
    "start_time": "2022-05-31T05:40:25.552Z"
   },
   {
    "duration": 6,
    "start_time": "2022-05-31T05:40:25.579Z"
   },
   {
    "duration": 14,
    "start_time": "2022-05-31T05:40:25.586Z"
   },
   {
    "duration": 12,
    "start_time": "2022-05-31T05:40:25.609Z"
   },
   {
    "duration": 45,
    "start_time": "2022-05-31T05:40:25.623Z"
   },
   {
    "duration": 36,
    "start_time": "2022-05-31T05:40:25.670Z"
   },
   {
    "duration": 4,
    "start_time": "2022-05-31T05:40:25.719Z"
   },
   {
    "duration": 7,
    "start_time": "2022-05-31T05:40:25.725Z"
   },
   {
    "duration": 21,
    "start_time": "2022-05-31T05:40:25.733Z"
   },
   {
    "duration": 14,
    "start_time": "2022-05-31T05:40:25.788Z"
   },
   {
    "duration": 13,
    "start_time": "2022-05-31T05:40:25.804Z"
   },
   {
    "duration": 24,
    "start_time": "2022-05-31T05:40:25.869Z"
   },
   {
    "duration": 202,
    "start_time": "2022-05-31T05:40:25.895Z"
   },
   {
    "duration": 105,
    "start_time": "2022-05-31T05:40:26.102Z"
   },
   {
    "duration": 189,
    "start_time": "2022-05-31T05:40:26.209Z"
   },
   {
    "duration": 19,
    "start_time": "2022-05-31T05:40:26.401Z"
   },
   {
    "duration": 12,
    "start_time": "2022-05-31T05:40:26.421Z"
   },
   {
    "duration": 4,
    "start_time": "2022-05-31T05:40:26.435Z"
   },
   {
    "duration": 4,
    "start_time": "2022-05-31T05:40:26.440Z"
   },
   {
    "duration": 8,
    "start_time": "2022-05-31T05:40:26.445Z"
   },
   {
    "duration": 38,
    "start_time": "2022-05-31T05:40:26.454Z"
   },
   {
    "duration": 5,
    "start_time": "2022-05-31T05:40:26.494Z"
   },
   {
    "duration": 391,
    "start_time": "2022-05-31T05:40:26.501Z"
   },
   {
    "duration": 368,
    "start_time": "2022-05-31T05:40:26.894Z"
   },
   {
    "duration": 370,
    "start_time": "2022-05-31T05:40:27.263Z"
   },
   {
    "duration": 372,
    "start_time": "2022-05-31T05:40:42.777Z"
   },
   {
    "duration": 31,
    "start_time": "2022-06-01T17:55:47.059Z"
   },
   {
    "duration": 35,
    "start_time": "2022-06-01T17:55:58.796Z"
   },
   {
    "duration": 23,
    "start_time": "2022-06-01T17:56:16.596Z"
   },
   {
    "duration": 53,
    "start_time": "2022-06-01T17:58:13.449Z"
   },
   {
    "duration": 1085,
    "start_time": "2022-06-01T18:00:47.307Z"
   },
   {
    "duration": 780,
    "start_time": "2022-06-01T18:00:48.394Z"
   },
   {
    "duration": 82,
    "start_time": "2022-06-01T18:00:49.176Z"
   },
   {
    "duration": 15,
    "start_time": "2022-06-01T18:00:49.260Z"
   },
   {
    "duration": 69,
    "start_time": "2022-06-01T18:00:49.276Z"
   },
   {
    "duration": 30,
    "start_time": "2022-06-01T18:00:49.347Z"
   },
   {
    "duration": 6,
    "start_time": "2022-06-01T18:00:49.378Z"
   },
   {
    "duration": 21,
    "start_time": "2022-06-01T18:00:49.386Z"
   },
   {
    "duration": 19,
    "start_time": "2022-06-01T18:00:49.408Z"
   },
   {
    "duration": 45,
    "start_time": "2022-06-01T18:00:49.445Z"
   },
   {
    "duration": 31,
    "start_time": "2022-06-01T18:00:49.491Z"
   },
   {
    "duration": 21,
    "start_time": "2022-06-01T18:00:49.524Z"
   },
   {
    "duration": 21,
    "start_time": "2022-06-01T18:00:49.546Z"
   },
   {
    "duration": 16,
    "start_time": "2022-06-01T18:00:49.569Z"
   },
   {
    "duration": 63,
    "start_time": "2022-06-01T18:00:49.586Z"
   },
   {
    "duration": 34,
    "start_time": "2022-06-01T18:00:49.651Z"
   },
   {
    "duration": 6,
    "start_time": "2022-06-01T18:00:49.688Z"
   },
   {
    "duration": 8,
    "start_time": "2022-06-01T18:00:49.697Z"
   },
   {
    "duration": 37,
    "start_time": "2022-06-01T18:00:49.707Z"
   },
   {
    "duration": 16,
    "start_time": "2022-06-01T18:00:49.746Z"
   },
   {
    "duration": 20,
    "start_time": "2022-06-01T18:00:49.764Z"
   },
   {
    "duration": 62,
    "start_time": "2022-06-01T18:00:49.786Z"
   },
   {
    "duration": 210,
    "start_time": "2022-06-01T18:00:49.849Z"
   },
   {
    "duration": 192,
    "start_time": "2022-06-01T18:00:50.061Z"
   },
   {
    "duration": 195,
    "start_time": "2022-06-01T18:00:50.255Z"
   },
   {
    "duration": 67,
    "start_time": "2022-06-01T18:00:50.452Z"
   },
   {
    "duration": 51,
    "start_time": "2022-06-01T18:00:50.521Z"
   },
   {
    "duration": 96,
    "start_time": "2022-06-01T18:00:50.577Z"
   },
   {
    "duration": 0,
    "start_time": "2022-06-01T18:00:50.674Z"
   },
   {
    "duration": 0,
    "start_time": "2022-06-01T18:00:50.676Z"
   },
   {
    "duration": 0,
    "start_time": "2022-06-01T18:00:50.678Z"
   },
   {
    "duration": 0,
    "start_time": "2022-06-01T18:00:50.679Z"
   },
   {
    "duration": 0,
    "start_time": "2022-06-01T18:00:50.681Z"
   },
   {
    "duration": 0,
    "start_time": "2022-06-01T18:00:50.683Z"
   },
   {
    "duration": 0,
    "start_time": "2022-06-01T18:00:50.684Z"
   },
   {
    "duration": 898,
    "start_time": "2022-06-01T18:01:19.423Z"
   },
   {
    "duration": 377,
    "start_time": "2022-06-01T18:01:20.323Z"
   },
   {
    "duration": 76,
    "start_time": "2022-06-01T18:01:20.702Z"
   },
   {
    "duration": 14,
    "start_time": "2022-06-01T18:01:20.780Z"
   },
   {
    "duration": 67,
    "start_time": "2022-06-01T18:01:20.796Z"
   },
   {
    "duration": 29,
    "start_time": "2022-06-01T18:01:20.864Z"
   },
   {
    "duration": 5,
    "start_time": "2022-06-01T18:01:20.895Z"
   },
   {
    "duration": 16,
    "start_time": "2022-06-01T18:01:20.902Z"
   },
   {
    "duration": 34,
    "start_time": "2022-06-01T18:01:20.919Z"
   },
   {
    "duration": 44,
    "start_time": "2022-06-01T18:01:20.955Z"
   },
   {
    "duration": 51,
    "start_time": "2022-06-01T18:01:21.001Z"
   },
   {
    "duration": 8,
    "start_time": "2022-06-01T18:01:21.054Z"
   },
   {
    "duration": 18,
    "start_time": "2022-06-01T18:01:21.064Z"
   },
   {
    "duration": 18,
    "start_time": "2022-06-01T18:01:21.084Z"
   },
   {
    "duration": 73,
    "start_time": "2022-06-01T18:01:21.104Z"
   },
   {
    "duration": 32,
    "start_time": "2022-06-01T18:01:21.179Z"
   },
   {
    "duration": 6,
    "start_time": "2022-06-01T18:01:21.213Z"
   },
   {
    "duration": 23,
    "start_time": "2022-06-01T18:01:21.221Z"
   },
   {
    "duration": 15,
    "start_time": "2022-06-01T18:01:21.246Z"
   },
   {
    "duration": 16,
    "start_time": "2022-06-01T18:01:21.263Z"
   },
   {
    "duration": 16,
    "start_time": "2022-06-01T18:01:21.281Z"
   },
   {
    "duration": 49,
    "start_time": "2022-06-01T18:01:21.299Z"
   },
   {
    "duration": 112,
    "start_time": "2022-06-01T18:01:21.350Z"
   },
   {
    "duration": 114,
    "start_time": "2022-06-01T18:01:21.544Z"
   },
   {
    "duration": 185,
    "start_time": "2022-06-01T18:01:21.660Z"
   },
   {
    "duration": 18,
    "start_time": "2022-06-01T18:01:21.847Z"
   },
   {
    "duration": 15,
    "start_time": "2022-06-01T18:01:21.866Z"
   },
   {
    "duration": 10,
    "start_time": "2022-06-01T18:01:21.884Z"
   },
   {
    "duration": 31,
    "start_time": "2022-06-01T18:01:21.896Z"
   },
   {
    "duration": 18,
    "start_time": "2022-06-01T18:01:21.929Z"
   },
   {
    "duration": 27,
    "start_time": "2022-06-01T18:01:21.949Z"
   },
   {
    "duration": 26,
    "start_time": "2022-06-01T18:01:21.978Z"
   },
   {
    "duration": 469,
    "start_time": "2022-06-01T18:01:22.006Z"
   },
   {
    "duration": 535,
    "start_time": "2022-06-01T18:01:22.477Z"
   },
   {
    "duration": 464,
    "start_time": "2022-06-01T18:01:23.014Z"
   },
   {
    "duration": 898,
    "start_time": "2022-06-01T20:37:35.416Z"
   },
   {
    "duration": 822,
    "start_time": "2022-06-01T20:37:36.315Z"
   },
   {
    "duration": 78,
    "start_time": "2022-06-01T20:37:37.139Z"
   },
   {
    "duration": 14,
    "start_time": "2022-06-01T20:37:37.219Z"
   },
   {
    "duration": 66,
    "start_time": "2022-06-01T20:37:37.234Z"
   },
   {
    "duration": 30,
    "start_time": "2022-06-01T20:37:37.301Z"
   },
   {
    "duration": 6,
    "start_time": "2022-06-01T20:37:37.352Z"
   },
   {
    "duration": 18,
    "start_time": "2022-06-01T20:37:37.360Z"
   },
   {
    "duration": 15,
    "start_time": "2022-06-01T20:37:37.380Z"
   },
   {
    "duration": 75,
    "start_time": "2022-06-01T20:37:37.398Z"
   },
   {
    "duration": 33,
    "start_time": "2022-06-01T20:37:37.474Z"
   },
   {
    "duration": 6,
    "start_time": "2022-06-01T20:37:37.509Z"
   },
   {
    "duration": 36,
    "start_time": "2022-06-01T20:37:37.517Z"
   },
   {
    "duration": 17,
    "start_time": "2022-06-01T20:37:37.555Z"
   },
   {
    "duration": 55,
    "start_time": "2022-06-01T20:37:37.574Z"
   },
   {
    "duration": 33,
    "start_time": "2022-06-01T20:37:37.651Z"
   },
   {
    "duration": 5,
    "start_time": "2022-06-01T20:37:37.686Z"
   },
   {
    "duration": 7,
    "start_time": "2022-06-01T20:37:37.693Z"
   },
   {
    "duration": 21,
    "start_time": "2022-06-01T20:37:37.702Z"
   },
   {
    "duration": 39,
    "start_time": "2022-06-01T20:37:37.725Z"
   },
   {
    "duration": 17,
    "start_time": "2022-06-01T20:37:37.765Z"
   },
   {
    "duration": 76,
    "start_time": "2022-06-01T20:37:37.784Z"
   },
   {
    "duration": 192,
    "start_time": "2022-06-01T20:37:37.862Z"
   },
   {
    "duration": 115,
    "start_time": "2022-06-01T20:37:38.056Z"
   },
   {
    "duration": 179,
    "start_time": "2022-06-01T20:37:38.173Z"
   },
   {
    "duration": 17,
    "start_time": "2022-06-01T20:37:38.354Z"
   },
   {
    "duration": 15,
    "start_time": "2022-06-01T20:37:38.373Z"
   },
   {
    "duration": 4,
    "start_time": "2022-06-01T20:37:38.392Z"
   },
   {
    "duration": 7,
    "start_time": "2022-06-01T20:37:38.398Z"
   },
   {
    "duration": 9,
    "start_time": "2022-06-01T20:37:38.407Z"
   },
   {
    "duration": 40,
    "start_time": "2022-06-01T20:37:38.418Z"
   },
   {
    "duration": 7,
    "start_time": "2022-06-01T20:37:38.461Z"
   },
   {
    "duration": 469,
    "start_time": "2022-06-01T20:37:38.470Z"
   },
   {
    "duration": 444,
    "start_time": "2022-06-01T20:37:38.941Z"
   },
   {
    "duration": 454,
    "start_time": "2022-06-01T20:37:39.386Z"
   },
   {
    "duration": 110,
    "start_time": "2022-06-01T20:39:14.031Z"
   },
   {
    "duration": 849,
    "start_time": "2022-06-02T04:22:57.540Z"
   },
   {
    "duration": 742,
    "start_time": "2022-06-02T04:22:58.391Z"
   },
   {
    "duration": 66,
    "start_time": "2022-06-02T04:22:59.134Z"
   },
   {
    "duration": 13,
    "start_time": "2022-06-02T04:22:59.202Z"
   },
   {
    "duration": 38,
    "start_time": "2022-06-02T04:22:59.217Z"
   },
   {
    "duration": 30,
    "start_time": "2022-06-02T04:22:59.276Z"
   },
   {
    "duration": 4,
    "start_time": "2022-06-02T04:22:59.308Z"
   },
   {
    "duration": 12,
    "start_time": "2022-06-02T04:22:59.314Z"
   },
   {
    "duration": 13,
    "start_time": "2022-06-02T04:22:59.327Z"
   },
   {
    "duration": 58,
    "start_time": "2022-06-02T04:22:59.342Z"
   },
   {
    "duration": 23,
    "start_time": "2022-06-02T04:22:59.401Z"
   },
   {
    "duration": 5,
    "start_time": "2022-06-02T04:22:59.425Z"
   },
   {
    "duration": 12,
    "start_time": "2022-06-02T04:22:59.431Z"
   },
   {
    "duration": 32,
    "start_time": "2022-06-02T04:22:59.444Z"
   },
   {
    "duration": 45,
    "start_time": "2022-06-02T04:22:59.479Z"
   },
   {
    "duration": 24,
    "start_time": "2022-06-02T04:22:59.526Z"
   },
   {
    "duration": 6,
    "start_time": "2022-06-02T04:22:59.551Z"
   },
   {
    "duration": 10,
    "start_time": "2022-06-02T04:22:59.575Z"
   },
   {
    "duration": 19,
    "start_time": "2022-06-02T04:22:59.588Z"
   },
   {
    "duration": 13,
    "start_time": "2022-06-02T04:22:59.608Z"
   },
   {
    "duration": 12,
    "start_time": "2022-06-02T04:22:59.623Z"
   },
   {
    "duration": 52,
    "start_time": "2022-06-02T04:22:59.637Z"
   },
   {
    "duration": 105,
    "start_time": "2022-06-02T04:22:59.691Z"
   },
   {
    "duration": 195,
    "start_time": "2022-06-02T04:22:59.798Z"
   },
   {
    "duration": 182,
    "start_time": "2022-06-02T04:22:59.994Z"
   },
   {
    "duration": 30,
    "start_time": "2022-06-02T04:23:00.178Z"
   },
   {
    "duration": 11,
    "start_time": "2022-06-02T04:23:00.209Z"
   },
   {
    "duration": 4,
    "start_time": "2022-06-02T04:23:00.223Z"
   },
   {
    "duration": 17,
    "start_time": "2022-06-02T04:23:00.228Z"
   },
   {
    "duration": 16,
    "start_time": "2022-06-02T04:23:00.246Z"
   },
   {
    "duration": 10,
    "start_time": "2022-06-02T04:23:00.263Z"
   },
   {
    "duration": 23,
    "start_time": "2022-06-02T04:23:00.274Z"
   },
   {
    "duration": 109,
    "start_time": "2022-06-02T04:23:00.298Z"
   },
   {
    "duration": 0,
    "start_time": "2022-06-02T04:23:00.409Z"
   },
   {
    "duration": 0,
    "start_time": "2022-06-02T04:23:00.410Z"
   },
   {
    "duration": 3,
    "start_time": "2022-06-02T04:23:38.528Z"
   },
   {
    "duration": 970,
    "start_time": "2022-06-02T04:25:40.554Z"
   },
   {
    "duration": 406,
    "start_time": "2022-06-02T04:25:41.526Z"
   },
   {
    "duration": 72,
    "start_time": "2022-06-02T04:25:41.934Z"
   },
   {
    "duration": 14,
    "start_time": "2022-06-02T04:25:42.008Z"
   },
   {
    "duration": 70,
    "start_time": "2022-06-02T04:25:42.024Z"
   },
   {
    "duration": 27,
    "start_time": "2022-06-02T04:25:42.096Z"
   },
   {
    "duration": 6,
    "start_time": "2022-06-02T04:25:42.125Z"
   },
   {
    "duration": 13,
    "start_time": "2022-06-02T04:25:42.133Z"
   },
   {
    "duration": 46,
    "start_time": "2022-06-02T04:25:42.147Z"
   },
   {
    "duration": 50,
    "start_time": "2022-06-02T04:25:42.197Z"
   },
   {
    "duration": 57,
    "start_time": "2022-06-02T04:25:42.249Z"
   },
   {
    "duration": 7,
    "start_time": "2022-06-02T04:25:42.308Z"
   },
   {
    "duration": 35,
    "start_time": "2022-06-02T04:25:42.318Z"
   },
   {
    "duration": 32,
    "start_time": "2022-06-02T04:25:42.355Z"
   },
   {
    "duration": 55,
    "start_time": "2022-06-02T04:25:42.389Z"
   },
   {
    "duration": 35,
    "start_time": "2022-06-02T04:25:42.446Z"
   },
   {
    "duration": 8,
    "start_time": "2022-06-02T04:25:42.483Z"
   },
   {
    "duration": 5,
    "start_time": "2022-06-02T04:25:42.492Z"
   },
   {
    "duration": 16,
    "start_time": "2022-06-02T04:25:42.498Z"
   },
   {
    "duration": 16,
    "start_time": "2022-06-02T04:25:42.516Z"
   },
   {
    "duration": 20,
    "start_time": "2022-06-02T04:25:42.534Z"
   },
   {
    "duration": 29,
    "start_time": "2022-06-02T04:25:42.576Z"
   },
   {
    "duration": 109,
    "start_time": "2022-06-02T04:25:42.678Z"
   },
   {
    "duration": 216,
    "start_time": "2022-06-02T04:25:42.790Z"
   },
   {
    "duration": 178,
    "start_time": "2022-06-02T04:25:43.009Z"
   },
   {
    "duration": 18,
    "start_time": "2022-06-02T04:25:43.189Z"
   },
   {
    "duration": 14,
    "start_time": "2022-06-02T04:25:43.209Z"
   },
   {
    "duration": 4,
    "start_time": "2022-06-02T04:25:43.226Z"
   },
   {
    "duration": 4,
    "start_time": "2022-06-02T04:25:43.232Z"
   },
   {
    "duration": 44,
    "start_time": "2022-06-02T04:25:43.237Z"
   },
   {
    "duration": 8,
    "start_time": "2022-06-02T04:25:43.284Z"
   },
   {
    "duration": 7,
    "start_time": "2022-06-02T04:25:43.294Z"
   },
   {
    "duration": 650,
    "start_time": "2022-06-02T04:25:43.303Z"
   },
   {
    "duration": 0,
    "start_time": "2022-06-02T04:25:43.955Z"
   },
   {
    "duration": 0,
    "start_time": "2022-06-02T04:25:43.956Z"
   },
   {
    "duration": 381,
    "start_time": "2022-06-02T04:25:59.588Z"
   },
   {
    "duration": 396,
    "start_time": "2022-06-02T04:26:01.526Z"
   },
   {
    "duration": 426,
    "start_time": "2022-06-02T04:26:01.923Z"
   },
   {
    "duration": 545,
    "start_time": "2022-06-02T04:26:20.571Z"
   },
   {
    "duration": 434,
    "start_time": "2022-06-02T04:26:31.958Z"
   },
   {
    "duration": 6,
    "start_time": "2022-06-02T04:28:27.558Z"
   },
   {
    "duration": 5,
    "start_time": "2022-06-02T04:28:28.717Z"
   },
   {
    "duration": 5,
    "start_time": "2022-06-02T04:28:29.638Z"
   },
   {
    "duration": 362,
    "start_time": "2022-06-02T04:35:55.394Z"
   },
   {
    "duration": 355,
    "start_time": "2022-06-02T04:35:55.999Z"
   },
   {
    "duration": 368,
    "start_time": "2022-06-02T04:35:56.445Z"
   },
   {
    "duration": 3,
    "start_time": "2022-06-02T05:43:26.223Z"
   },
   {
    "duration": 321,
    "start_time": "2022-06-02T05:43:26.228Z"
   },
   {
    "duration": 12,
    "start_time": "2022-06-02T05:43:26.550Z"
   },
   {
    "duration": 19,
    "start_time": "2022-06-02T05:43:26.563Z"
   },
   {
    "duration": 41,
    "start_time": "2022-06-02T05:43:26.583Z"
   },
   {
    "duration": 23,
    "start_time": "2022-06-02T05:43:26.625Z"
   },
   {
    "duration": 3,
    "start_time": "2022-06-02T05:43:26.650Z"
   },
   {
    "duration": 29,
    "start_time": "2022-06-02T05:43:26.655Z"
   },
   {
    "duration": 16,
    "start_time": "2022-06-02T05:43:26.686Z"
   },
   {
    "duration": 47,
    "start_time": "2022-06-02T05:43:26.704Z"
   },
   {
    "duration": 30,
    "start_time": "2022-06-02T05:43:26.774Z"
   },
   {
    "duration": 3,
    "start_time": "2022-06-02T05:43:26.805Z"
   },
   {
    "duration": 11,
    "start_time": "2022-06-02T05:43:26.810Z"
   },
   {
    "duration": 12,
    "start_time": "2022-06-02T05:43:26.823Z"
   },
   {
    "duration": 58,
    "start_time": "2022-06-02T05:43:26.837Z"
   },
   {
    "duration": 22,
    "start_time": "2022-06-02T05:43:26.897Z"
   },
   {
    "duration": 4,
    "start_time": "2022-06-02T05:43:26.921Z"
   },
   {
    "duration": 4,
    "start_time": "2022-06-02T05:43:26.926Z"
   },
   {
    "duration": 15,
    "start_time": "2022-06-02T05:43:26.931Z"
   },
   {
    "duration": 30,
    "start_time": "2022-06-02T05:43:26.947Z"
   },
   {
    "duration": 13,
    "start_time": "2022-06-02T05:43:26.978Z"
   },
   {
    "duration": 84,
    "start_time": "2022-06-02T05:43:26.992Z"
   },
   {
    "duration": 102,
    "start_time": "2022-06-02T05:43:27.078Z"
   },
   {
    "duration": 199,
    "start_time": "2022-06-02T05:43:27.181Z"
   },
   {
    "duration": 103,
    "start_time": "2022-06-02T05:43:27.382Z"
   },
   {
    "duration": 17,
    "start_time": "2022-06-02T05:43:27.575Z"
   },
   {
    "duration": 11,
    "start_time": "2022-06-02T05:43:27.594Z"
   },
   {
    "duration": 5,
    "start_time": "2022-06-02T05:43:27.606Z"
   },
   {
    "duration": 3,
    "start_time": "2022-06-02T05:43:27.612Z"
   },
   {
    "duration": 9,
    "start_time": "2022-06-02T05:43:27.617Z"
   },
   {
    "duration": 4,
    "start_time": "2022-06-02T05:43:27.628Z"
   },
   {
    "duration": 7,
    "start_time": "2022-06-02T05:43:27.634Z"
   },
   {
    "duration": 403,
    "start_time": "2022-06-02T05:43:27.642Z"
   },
   {
    "duration": 356,
    "start_time": "2022-06-02T05:43:28.047Z"
   },
   {
    "duration": 370,
    "start_time": "2022-06-02T05:43:28.404Z"
   },
   {
    "duration": 930,
    "start_time": "2022-06-02T21:35:11.814Z"
   },
   {
    "duration": 909,
    "start_time": "2022-06-02T21:35:12.746Z"
   },
   {
    "duration": 77,
    "start_time": "2022-06-02T21:35:13.657Z"
   },
   {
    "duration": 14,
    "start_time": "2022-06-02T21:35:13.736Z"
   },
   {
    "duration": 62,
    "start_time": "2022-06-02T21:35:13.752Z"
   },
   {
    "duration": 27,
    "start_time": "2022-06-02T21:35:13.816Z"
   },
   {
    "duration": 6,
    "start_time": "2022-06-02T21:35:13.844Z"
   },
   {
    "duration": 35,
    "start_time": "2022-06-02T21:35:13.851Z"
   },
   {
    "duration": 30,
    "start_time": "2022-06-02T21:35:13.888Z"
   },
   {
    "duration": 57,
    "start_time": "2022-06-02T21:35:13.922Z"
   },
   {
    "duration": 44,
    "start_time": "2022-06-02T21:35:13.981Z"
   },
   {
    "duration": 7,
    "start_time": "2022-06-02T21:35:14.026Z"
   },
   {
    "duration": 14,
    "start_time": "2022-06-02T21:35:14.034Z"
   },
   {
    "duration": 33,
    "start_time": "2022-06-02T21:35:14.050Z"
   },
   {
    "duration": 47,
    "start_time": "2022-06-02T21:35:14.085Z"
   },
   {
    "duration": 47,
    "start_time": "2022-06-02T21:35:14.134Z"
   },
   {
    "duration": 6,
    "start_time": "2022-06-02T21:35:14.182Z"
   },
   {
    "duration": 7,
    "start_time": "2022-06-02T21:35:14.189Z"
   },
   {
    "duration": 17,
    "start_time": "2022-06-02T21:35:14.198Z"
   },
   {
    "duration": 16,
    "start_time": "2022-06-02T21:35:14.217Z"
   },
   {
    "duration": 42,
    "start_time": "2022-06-02T21:35:14.235Z"
   },
   {
    "duration": 20,
    "start_time": "2022-06-02T21:35:14.279Z"
   },
   {
    "duration": 176,
    "start_time": "2022-06-02T21:35:14.301Z"
   },
   {
    "duration": 112,
    "start_time": "2022-06-02T21:35:14.479Z"
   },
   {
    "duration": 183,
    "start_time": "2022-06-02T21:35:14.593Z"
   },
   {
    "duration": 17,
    "start_time": "2022-06-02T21:35:14.778Z"
   },
   {
    "duration": 14,
    "start_time": "2022-06-02T21:35:14.796Z"
   },
   {
    "duration": 5,
    "start_time": "2022-06-02T21:35:14.813Z"
   },
   {
    "duration": 8,
    "start_time": "2022-06-02T21:35:14.819Z"
   },
   {
    "duration": 131,
    "start_time": "2022-06-02T21:35:14.829Z"
   },
   {
    "duration": 0,
    "start_time": "2022-06-02T21:35:14.962Z"
   },
   {
    "duration": 0,
    "start_time": "2022-06-02T21:35:14.963Z"
   },
   {
    "duration": 0,
    "start_time": "2022-06-02T21:35:14.965Z"
   },
   {
    "duration": 0,
    "start_time": "2022-06-02T21:35:14.976Z"
   },
   {
    "duration": 0,
    "start_time": "2022-06-02T21:35:14.977Z"
   },
   {
    "duration": 14,
    "start_time": "2022-06-02T21:35:36.103Z"
   },
   {
    "duration": 26,
    "start_time": "2022-06-02T21:36:18.286Z"
   },
   {
    "duration": 9,
    "start_time": "2022-06-02T21:36:36.696Z"
   },
   {
    "duration": 9,
    "start_time": "2022-06-02T21:37:02.153Z"
   },
   {
    "duration": 10,
    "start_time": "2022-06-02T21:37:17.205Z"
   },
   {
    "duration": 9,
    "start_time": "2022-06-02T21:37:24.358Z"
   },
   {
    "duration": 15,
    "start_time": "2022-06-02T21:37:39.695Z"
   },
   {
    "duration": 812,
    "start_time": "2022-06-03T04:22:43.264Z"
   },
   {
    "duration": 720,
    "start_time": "2022-06-03T04:22:44.078Z"
   },
   {
    "duration": 67,
    "start_time": "2022-06-03T04:22:44.803Z"
   },
   {
    "duration": 17,
    "start_time": "2022-06-03T04:22:44.873Z"
   },
   {
    "duration": 56,
    "start_time": "2022-06-03T04:22:44.891Z"
   },
   {
    "duration": 25,
    "start_time": "2022-06-03T04:22:44.949Z"
   },
   {
    "duration": 7,
    "start_time": "2022-06-03T04:22:44.977Z"
   },
   {
    "duration": 36,
    "start_time": "2022-06-03T04:22:44.985Z"
   },
   {
    "duration": 38,
    "start_time": "2022-06-03T04:22:45.022Z"
   },
   {
    "duration": 51,
    "start_time": "2022-06-03T04:22:45.062Z"
   },
   {
    "duration": 24,
    "start_time": "2022-06-03T04:22:45.114Z"
   },
   {
    "duration": 6,
    "start_time": "2022-06-03T04:22:45.140Z"
   },
   {
    "duration": 16,
    "start_time": "2022-06-03T04:22:45.148Z"
   },
   {
    "duration": 26,
    "start_time": "2022-06-03T04:22:45.166Z"
   },
   {
    "duration": 61,
    "start_time": "2022-06-03T04:22:45.195Z"
   },
   {
    "duration": 28,
    "start_time": "2022-06-03T04:22:45.264Z"
   },
   {
    "duration": 7,
    "start_time": "2022-06-03T04:22:45.294Z"
   },
   {
    "duration": 9,
    "start_time": "2022-06-03T04:22:45.303Z"
   },
   {
    "duration": 30,
    "start_time": "2022-06-03T04:22:45.314Z"
   },
   {
    "duration": 16,
    "start_time": "2022-06-03T04:22:45.346Z"
   },
   {
    "duration": 25,
    "start_time": "2022-06-03T04:22:45.363Z"
   },
   {
    "duration": 38,
    "start_time": "2022-06-03T04:22:45.390Z"
   },
   {
    "duration": 202,
    "start_time": "2022-06-03T04:22:45.430Z"
   },
   {
    "duration": 108,
    "start_time": "2022-06-03T04:22:45.634Z"
   },
   {
    "duration": 185,
    "start_time": "2022-06-03T04:22:45.745Z"
   },
   {
    "duration": 16,
    "start_time": "2022-06-03T04:22:45.932Z"
   },
   {
    "duration": 19,
    "start_time": "2022-06-03T04:22:45.950Z"
   },
   {
    "duration": 5,
    "start_time": "2022-06-03T04:22:45.975Z"
   },
   {
    "duration": 9,
    "start_time": "2022-06-03T04:22:45.982Z"
   },
   {
    "duration": 141,
    "start_time": "2022-06-03T04:22:45.993Z"
   },
   {
    "duration": 0,
    "start_time": "2022-06-03T04:22:46.136Z"
   },
   {
    "duration": 0,
    "start_time": "2022-06-03T04:22:46.137Z"
   },
   {
    "duration": 0,
    "start_time": "2022-06-03T04:22:46.138Z"
   },
   {
    "duration": 0,
    "start_time": "2022-06-03T04:22:46.139Z"
   },
   {
    "duration": 0,
    "start_time": "2022-06-03T04:22:46.140Z"
   },
   {
    "duration": 0,
    "start_time": "2022-06-03T04:22:46.141Z"
   },
   {
    "duration": 12,
    "start_time": "2022-06-03T04:27:35.638Z"
   },
   {
    "duration": 11,
    "start_time": "2022-06-03T04:31:46.310Z"
   },
   {
    "duration": 18,
    "start_time": "2022-06-03T04:31:52.573Z"
   },
   {
    "duration": 9,
    "start_time": "2022-06-03T04:32:30.282Z"
   },
   {
    "duration": 14,
    "start_time": "2022-06-03T04:32:42.538Z"
   },
   {
    "duration": 9,
    "start_time": "2022-06-03T04:32:50.738Z"
   },
   {
    "duration": 7,
    "start_time": "2022-06-03T04:33:57.578Z"
   },
   {
    "duration": 7,
    "start_time": "2022-06-03T04:35:24.537Z"
   },
   {
    "duration": 7,
    "start_time": "2022-06-03T04:35:31.186Z"
   },
   {
    "duration": 8,
    "start_time": "2022-06-03T04:36:03.418Z"
   },
   {
    "duration": 9,
    "start_time": "2022-06-03T04:36:18.081Z"
   },
   {
    "duration": 11,
    "start_time": "2022-06-03T04:37:00.387Z"
   },
   {
    "duration": 3,
    "start_time": "2022-06-03T04:37:08.409Z"
   },
   {
    "duration": 9,
    "start_time": "2022-06-03T04:37:21.946Z"
   },
   {
    "duration": 9,
    "start_time": "2022-06-03T04:37:59.776Z"
   },
   {
    "duration": 8,
    "start_time": "2022-06-03T04:38:27.632Z"
   },
   {
    "duration": 8,
    "start_time": "2022-06-03T04:39:53.409Z"
   },
   {
    "duration": 5,
    "start_time": "2022-06-03T04:40:10.144Z"
   },
   {
    "duration": 819,
    "start_time": "2022-06-03T04:40:32.270Z"
   },
   {
    "duration": 374,
    "start_time": "2022-06-03T04:40:33.091Z"
   },
   {
    "duration": 71,
    "start_time": "2022-06-03T04:40:33.466Z"
   },
   {
    "duration": 14,
    "start_time": "2022-06-03T04:40:33.539Z"
   },
   {
    "duration": 43,
    "start_time": "2022-06-03T04:40:33.554Z"
   },
   {
    "duration": 50,
    "start_time": "2022-06-03T04:40:33.598Z"
   },
   {
    "duration": 5,
    "start_time": "2022-06-03T04:40:33.650Z"
   },
   {
    "duration": 15,
    "start_time": "2022-06-03T04:40:33.656Z"
   },
   {
    "duration": 33,
    "start_time": "2022-06-03T04:40:33.672Z"
   },
   {
    "duration": 45,
    "start_time": "2022-06-03T04:40:33.708Z"
   },
   {
    "duration": 27,
    "start_time": "2022-06-03T04:40:33.755Z"
   },
   {
    "duration": 6,
    "start_time": "2022-06-03T04:40:33.784Z"
   },
   {
    "duration": 18,
    "start_time": "2022-06-03T04:40:33.791Z"
   },
   {
    "duration": 17,
    "start_time": "2022-06-03T04:40:33.827Z"
   },
   {
    "duration": 52,
    "start_time": "2022-06-03T04:40:33.846Z"
   },
   {
    "duration": 41,
    "start_time": "2022-06-03T04:40:33.900Z"
   },
   {
    "duration": 6,
    "start_time": "2022-06-03T04:40:33.943Z"
   },
   {
    "duration": 26,
    "start_time": "2022-06-03T04:40:33.950Z"
   },
   {
    "duration": 27,
    "start_time": "2022-06-03T04:40:33.978Z"
   },
   {
    "duration": 24,
    "start_time": "2022-06-03T04:40:34.006Z"
   },
   {
    "duration": 50,
    "start_time": "2022-06-03T04:40:34.031Z"
   },
   {
    "duration": 50,
    "start_time": "2022-06-03T04:40:34.082Z"
   },
   {
    "duration": 130,
    "start_time": "2022-06-03T04:40:34.134Z"
   },
   {
    "duration": 105,
    "start_time": "2022-06-03T04:40:34.328Z"
   },
   {
    "duration": 212,
    "start_time": "2022-06-03T04:40:34.435Z"
   },
   {
    "duration": 28,
    "start_time": "2022-06-03T04:40:34.648Z"
   },
   {
    "duration": 27,
    "start_time": "2022-06-03T04:40:34.678Z"
   },
   {
    "duration": 22,
    "start_time": "2022-06-03T04:40:34.709Z"
   },
   {
    "duration": 149,
    "start_time": "2022-06-03T04:40:34.732Z"
   },
   {
    "duration": 0,
    "start_time": "2022-06-03T04:40:34.883Z"
   },
   {
    "duration": 0,
    "start_time": "2022-06-03T04:40:34.884Z"
   },
   {
    "duration": 0,
    "start_time": "2022-06-03T04:40:34.886Z"
   },
   {
    "duration": 0,
    "start_time": "2022-06-03T04:40:34.888Z"
   },
   {
    "duration": 0,
    "start_time": "2022-06-03T04:40:34.889Z"
   },
   {
    "duration": 0,
    "start_time": "2022-06-03T04:40:34.890Z"
   },
   {
    "duration": 0,
    "start_time": "2022-06-03T04:40:34.892Z"
   },
   {
    "duration": 0,
    "start_time": "2022-06-03T04:40:34.893Z"
   },
   {
    "duration": 0,
    "start_time": "2022-06-03T04:40:34.895Z"
   },
   {
    "duration": 0,
    "start_time": "2022-06-03T04:40:34.896Z"
   },
   {
    "duration": 6,
    "start_time": "2022-06-03T04:40:45.077Z"
   },
   {
    "duration": 7,
    "start_time": "2022-06-03T04:41:39.219Z"
   },
   {
    "duration": 5,
    "start_time": "2022-06-03T04:41:55.245Z"
   },
   {
    "duration": 8,
    "start_time": "2022-06-03T04:42:14.124Z"
   },
   {
    "duration": 11,
    "start_time": "2022-06-03T04:42:26.420Z"
   },
   {
    "duration": 3,
    "start_time": "2022-06-03T04:42:30.533Z"
   },
   {
    "duration": 5,
    "start_time": "2022-06-03T04:42:39.724Z"
   },
   {
    "duration": 3,
    "start_time": "2022-06-03T04:43:48.885Z"
   },
   {
    "duration": 11,
    "start_time": "2022-06-03T04:43:52.036Z"
   },
   {
    "duration": 9,
    "start_time": "2022-06-03T04:44:18.728Z"
   },
   {
    "duration": 9,
    "start_time": "2022-06-03T04:44:37.013Z"
   },
   {
    "duration": 13,
    "start_time": "2022-06-03T04:44:51.856Z"
   },
   {
    "duration": 12,
    "start_time": "2022-06-03T04:45:03.939Z"
   },
   {
    "duration": 9,
    "start_time": "2022-06-03T04:45:15.411Z"
   },
   {
    "duration": 5,
    "start_time": "2022-06-03T04:45:46.139Z"
   },
   {
    "duration": 13,
    "start_time": "2022-06-03T04:45:56.324Z"
   },
   {
    "duration": 11,
    "start_time": "2022-06-03T04:47:16.796Z"
   },
   {
    "duration": 10,
    "start_time": "2022-06-03T04:48:44.307Z"
   },
   {
    "duration": 11,
    "start_time": "2022-06-03T04:49:20.650Z"
   },
   {
    "duration": 9,
    "start_time": "2022-06-03T04:49:59.859Z"
   },
   {
    "duration": 10,
    "start_time": "2022-06-03T04:50:06.410Z"
   },
   {
    "duration": 889,
    "start_time": "2022-06-03T04:50:13.466Z"
   },
   {
    "duration": 362,
    "start_time": "2022-06-03T04:50:14.357Z"
   },
   {
    "duration": 75,
    "start_time": "2022-06-03T04:50:14.721Z"
   },
   {
    "duration": 28,
    "start_time": "2022-06-03T04:50:14.799Z"
   },
   {
    "duration": 57,
    "start_time": "2022-06-03T04:50:14.829Z"
   },
   {
    "duration": 41,
    "start_time": "2022-06-03T04:50:14.888Z"
   },
   {
    "duration": 6,
    "start_time": "2022-06-03T04:50:14.931Z"
   },
   {
    "duration": 18,
    "start_time": "2022-06-03T04:50:14.938Z"
   },
   {
    "duration": 17,
    "start_time": "2022-06-03T04:50:14.958Z"
   },
   {
    "duration": 53,
    "start_time": "2022-06-03T04:50:14.977Z"
   },
   {
    "duration": 28,
    "start_time": "2022-06-03T04:50:15.032Z"
   },
   {
    "duration": 5,
    "start_time": "2022-06-03T04:50:15.062Z"
   },
   {
    "duration": 16,
    "start_time": "2022-06-03T04:50:15.069Z"
   },
   {
    "duration": 40,
    "start_time": "2022-06-03T04:50:15.087Z"
   },
   {
    "duration": 47,
    "start_time": "2022-06-03T04:50:15.128Z"
   },
   {
    "duration": 28,
    "start_time": "2022-06-03T04:50:15.177Z"
   },
   {
    "duration": 25,
    "start_time": "2022-06-03T04:50:15.207Z"
   },
   {
    "duration": 11,
    "start_time": "2022-06-03T04:50:15.234Z"
   },
   {
    "duration": 25,
    "start_time": "2022-06-03T04:50:15.247Z"
   },
   {
    "duration": 16,
    "start_time": "2022-06-03T04:50:15.273Z"
   },
   {
    "duration": 16,
    "start_time": "2022-06-03T04:50:15.290Z"
   },
   {
    "duration": 42,
    "start_time": "2022-06-03T04:50:15.308Z"
   },
   {
    "duration": 106,
    "start_time": "2022-06-03T04:50:15.431Z"
   },
   {
    "duration": 195,
    "start_time": "2022-06-03T04:50:15.539Z"
   },
   {
    "duration": 196,
    "start_time": "2022-06-03T04:50:15.737Z"
   },
   {
    "duration": 16,
    "start_time": "2022-06-03T04:50:15.935Z"
   },
   {
    "duration": 13,
    "start_time": "2022-06-03T04:50:15.953Z"
   },
   {
    "duration": 4,
    "start_time": "2022-06-03T04:50:15.969Z"
   },
   {
    "duration": 130,
    "start_time": "2022-06-03T04:50:15.974Z"
   },
   {
    "duration": 0,
    "start_time": "2022-06-03T04:50:16.106Z"
   },
   {
    "duration": 0,
    "start_time": "2022-06-03T04:50:16.107Z"
   },
   {
    "duration": 0,
    "start_time": "2022-06-03T04:50:16.108Z"
   },
   {
    "duration": 0,
    "start_time": "2022-06-03T04:50:16.109Z"
   },
   {
    "duration": 0,
    "start_time": "2022-06-03T04:50:16.111Z"
   },
   {
    "duration": 0,
    "start_time": "2022-06-03T04:50:16.112Z"
   },
   {
    "duration": 0,
    "start_time": "2022-06-03T04:50:16.113Z"
   },
   {
    "duration": 0,
    "start_time": "2022-06-03T04:50:16.114Z"
   },
   {
    "duration": 0,
    "start_time": "2022-06-03T04:50:16.127Z"
   },
   {
    "duration": 0,
    "start_time": "2022-06-03T04:50:16.128Z"
   },
   {
    "duration": 11,
    "start_time": "2022-06-03T04:50:21.030Z"
   },
   {
    "duration": 7,
    "start_time": "2022-06-03T04:50:45.929Z"
   },
   {
    "duration": 12,
    "start_time": "2022-06-03T04:50:52.150Z"
   },
   {
    "duration": 20,
    "start_time": "2022-06-03T04:51:13.743Z"
   },
   {
    "duration": 17,
    "start_time": "2022-06-03T04:51:48.295Z"
   },
   {
    "duration": 9,
    "start_time": "2022-06-03T04:52:58.174Z"
   },
   {
    "duration": 12,
    "start_time": "2022-06-03T04:53:10.566Z"
   },
   {
    "duration": 576,
    "start_time": "2022-06-03T04:53:16.703Z"
   },
   {
    "duration": 6,
    "start_time": "2022-06-03T04:54:13.996Z"
   },
   {
    "duration": 9,
    "start_time": "2022-06-03T04:54:22.825Z"
   },
   {
    "duration": 11,
    "start_time": "2022-06-03T04:54:37.731Z"
   },
   {
    "duration": 4,
    "start_time": "2022-06-03T04:55:08.843Z"
   },
   {
    "duration": 5,
    "start_time": "2022-06-03T04:55:50.107Z"
   },
   {
    "duration": 50,
    "start_time": "2022-06-03T04:55:53.212Z"
   },
   {
    "duration": 10,
    "start_time": "2022-06-03T04:56:32.172Z"
   },
   {
    "duration": 14,
    "start_time": "2022-06-03T04:57:11.383Z"
   },
   {
    "duration": 15,
    "start_time": "2022-06-03T04:57:16.977Z"
   },
   {
    "duration": 23,
    "start_time": "2022-06-03T04:57:32.075Z"
   },
   {
    "duration": 14,
    "start_time": "2022-06-03T04:58:10.147Z"
   },
   {
    "duration": 8,
    "start_time": "2022-06-03T04:58:16.586Z"
   },
   {
    "duration": 4,
    "start_time": "2022-06-03T04:58:49.944Z"
   },
   {
    "duration": 9,
    "start_time": "2022-06-03T04:58:53.393Z"
   },
   {
    "duration": 10,
    "start_time": "2022-06-03T04:58:56.821Z"
   },
   {
    "duration": 10,
    "start_time": "2022-06-03T04:58:57.320Z"
   },
   {
    "duration": 11,
    "start_time": "2022-06-03T04:59:09.674Z"
   },
   {
    "duration": 16,
    "start_time": "2022-06-03T04:59:52.514Z"
   },
   {
    "duration": 912,
    "start_time": "2022-06-03T05:00:03.271Z"
   },
   {
    "duration": 394,
    "start_time": "2022-06-03T05:00:04.187Z"
   },
   {
    "duration": 83,
    "start_time": "2022-06-03T05:00:04.583Z"
   },
   {
    "duration": 69,
    "start_time": "2022-06-03T05:00:04.668Z"
   },
   {
    "duration": 84,
    "start_time": "2022-06-03T05:00:04.740Z"
   },
   {
    "duration": 43,
    "start_time": "2022-06-03T05:00:04.835Z"
   },
   {
    "duration": 31,
    "start_time": "2022-06-03T05:00:04.880Z"
   },
   {
    "duration": 46,
    "start_time": "2022-06-03T05:00:04.913Z"
   },
   {
    "duration": 43,
    "start_time": "2022-06-03T05:00:04.962Z"
   },
   {
    "duration": 81,
    "start_time": "2022-06-03T05:00:05.007Z"
   },
   {
    "duration": 39,
    "start_time": "2022-06-03T05:00:05.090Z"
   },
   {
    "duration": 6,
    "start_time": "2022-06-03T05:00:05.131Z"
   },
   {
    "duration": 39,
    "start_time": "2022-06-03T05:00:05.139Z"
   },
   {
    "duration": 29,
    "start_time": "2022-06-03T05:00:05.182Z"
   },
   {
    "duration": 104,
    "start_time": "2022-06-03T05:00:05.214Z"
   },
   {
    "duration": 32,
    "start_time": "2022-06-03T05:00:05.321Z"
   },
   {
    "duration": 47,
    "start_time": "2022-06-03T05:00:05.355Z"
   },
   {
    "duration": 41,
    "start_time": "2022-06-03T05:00:05.404Z"
   },
   {
    "duration": 45,
    "start_time": "2022-06-03T05:00:05.447Z"
   },
   {
    "duration": 17,
    "start_time": "2022-06-03T05:00:05.494Z"
   },
   {
    "duration": 36,
    "start_time": "2022-06-03T05:00:05.512Z"
   },
   {
    "duration": 28,
    "start_time": "2022-06-03T05:00:05.550Z"
   },
   {
    "duration": 171,
    "start_time": "2022-06-03T05:00:05.580Z"
   },
   {
    "duration": 273,
    "start_time": "2022-06-03T05:00:05.753Z"
   },
   {
    "duration": 132,
    "start_time": "2022-06-03T05:00:06.029Z"
   },
   {
    "duration": 43,
    "start_time": "2022-06-03T05:00:06.164Z"
   },
   {
    "duration": 46,
    "start_time": "2022-06-03T05:00:06.209Z"
   },
   {
    "duration": 41,
    "start_time": "2022-06-03T05:00:06.259Z"
   },
   {
    "duration": 62,
    "start_time": "2022-06-03T05:00:06.302Z"
   },
   {
    "duration": 66,
    "start_time": "2022-06-03T05:00:06.367Z"
   },
   {
    "duration": 53,
    "start_time": "2022-06-03T05:00:06.435Z"
   },
   {
    "duration": 51,
    "start_time": "2022-06-03T05:00:06.490Z"
   },
   {
    "duration": 201,
    "start_time": "2022-06-03T05:00:06.543Z"
   },
   {
    "duration": 0,
    "start_time": "2022-06-03T05:00:06.746Z"
   },
   {
    "duration": 0,
    "start_time": "2022-06-03T05:00:06.747Z"
   },
   {
    "duration": 17,
    "start_time": "2022-06-03T05:01:37.199Z"
   },
   {
    "duration": 48,
    "start_time": "2022-06-03T05:02:22.727Z"
   },
   {
    "duration": 3445,
    "start_time": "2022-06-03T05:03:12.199Z"
   },
   {
    "duration": 3346,
    "start_time": "2022-06-03T05:03:52.797Z"
   },
   {
    "duration": 3502,
    "start_time": "2022-06-03T05:26:24.415Z"
   },
   {
    "duration": 5,
    "start_time": "2022-06-03T05:27:20.677Z"
   },
   {
    "duration": 6,
    "start_time": "2022-06-03T05:27:26.646Z"
   },
   {
    "duration": 10,
    "start_time": "2022-06-03T05:27:48.543Z"
   },
   {
    "duration": 10,
    "start_time": "2022-06-03T05:28:05.988Z"
   },
   {
    "duration": 52,
    "start_time": "2022-06-03T05:28:33.831Z"
   },
   {
    "duration": 10,
    "start_time": "2022-06-03T05:28:38.182Z"
   },
   {
    "duration": 4379,
    "start_time": "2022-06-03T05:28:39.160Z"
   },
   {
    "duration": 10,
    "start_time": "2022-06-03T05:28:49.113Z"
   },
   {
    "duration": 12,
    "start_time": "2022-06-03T05:28:54.998Z"
   },
   {
    "duration": 10,
    "start_time": "2022-06-03T05:29:11.923Z"
   },
   {
    "duration": 12,
    "start_time": "2022-06-03T05:29:18.757Z"
   },
   {
    "duration": 17,
    "start_time": "2022-06-03T05:30:08.968Z"
   },
   {
    "duration": 32,
    "start_time": "2022-06-03T05:30:46.456Z"
   },
   {
    "duration": 32,
    "start_time": "2022-06-03T05:31:31.637Z"
   },
   {
    "duration": 29,
    "start_time": "2022-06-03T05:32:58.263Z"
   },
   {
    "duration": 34,
    "start_time": "2022-06-03T05:33:59.152Z"
   },
   {
    "duration": 36,
    "start_time": "2022-06-03T05:34:36.040Z"
   },
   {
    "duration": 34,
    "start_time": "2022-06-03T05:35:52.183Z"
   },
   {
    "duration": 24,
    "start_time": "2022-06-03T05:43:09.877Z"
   },
   {
    "duration": 17,
    "start_time": "2022-06-03T05:43:53.492Z"
   },
   {
    "duration": 14,
    "start_time": "2022-06-03T05:44:20.878Z"
   },
   {
    "duration": 457,
    "start_time": "2022-06-03T05:45:21.468Z"
   },
   {
    "duration": 7,
    "start_time": "2022-06-03T05:45:38.499Z"
   },
   {
    "duration": 756,
    "start_time": "2022-06-03T05:46:03.787Z"
   },
   {
    "duration": 5,
    "start_time": "2022-06-03T05:46:12.642Z"
   },
   {
    "duration": 11,
    "start_time": "2022-06-03T05:46:17.730Z"
   },
   {
    "duration": 15,
    "start_time": "2022-06-03T05:46:38.115Z"
   },
   {
    "duration": 13,
    "start_time": "2022-06-03T05:46:51.140Z"
   },
   {
    "duration": 16,
    "start_time": "2022-06-03T05:47:00.588Z"
   },
   {
    "duration": 12,
    "start_time": "2022-06-03T05:47:16.732Z"
   },
   {
    "duration": 10,
    "start_time": "2022-06-03T05:47:26.332Z"
   },
   {
    "duration": 17,
    "start_time": "2022-06-03T05:54:34.129Z"
   },
   {
    "duration": 6,
    "start_time": "2022-06-03T05:55:38.172Z"
   },
   {
    "duration": 6,
    "start_time": "2022-06-03T05:55:44.999Z"
   },
   {
    "duration": 23,
    "start_time": "2022-06-03T05:56:31.907Z"
   },
   {
    "duration": 24,
    "start_time": "2022-06-03T05:57:04.146Z"
   },
   {
    "duration": 5,
    "start_time": "2022-06-03T05:58:21.416Z"
   },
   {
    "duration": 10,
    "start_time": "2022-06-03T05:58:29.585Z"
   },
   {
    "duration": 9,
    "start_time": "2022-06-03T05:58:34.495Z"
   },
   {
    "duration": 18,
    "start_time": "2022-06-03T05:58:51.720Z"
   },
   {
    "duration": 9,
    "start_time": "2022-06-03T05:59:24.079Z"
   },
   {
    "duration": 10,
    "start_time": "2022-06-03T05:59:28.942Z"
   },
   {
    "duration": 6,
    "start_time": "2022-06-03T05:59:34.502Z"
   },
   {
    "duration": 23,
    "start_time": "2022-06-03T06:00:20.691Z"
   },
   {
    "duration": 16,
    "start_time": "2022-06-03T06:00:55.414Z"
   },
   {
    "duration": 23,
    "start_time": "2022-06-03T06:02:54.656Z"
   },
   {
    "duration": 6,
    "start_time": "2022-06-03T06:03:39.567Z"
   },
   {
    "duration": 11,
    "start_time": "2022-06-03T06:03:50.222Z"
   },
   {
    "duration": 7,
    "start_time": "2022-06-03T06:04:00.383Z"
   },
   {
    "duration": 12,
    "start_time": "2022-06-03T06:04:18.159Z"
   },
   {
    "duration": 29,
    "start_time": "2022-06-03T06:04:41.600Z"
   },
   {
    "duration": 5,
    "start_time": "2022-06-03T06:05:38.982Z"
   },
   {
    "duration": 7,
    "start_time": "2022-06-03T06:05:44.678Z"
   },
   {
    "duration": 8,
    "start_time": "2022-06-03T06:06:09.220Z"
   },
   {
    "duration": 10,
    "start_time": "2022-06-03T06:06:24.826Z"
   },
   {
    "duration": 13,
    "start_time": "2022-06-03T06:06:35.820Z"
   },
   {
    "duration": 876,
    "start_time": "2022-06-03T06:21:46.169Z"
   },
   {
    "duration": 352,
    "start_time": "2022-06-03T06:21:47.047Z"
   },
   {
    "duration": 72,
    "start_time": "2022-06-03T06:21:47.401Z"
   },
   {
    "duration": 14,
    "start_time": "2022-06-03T06:21:47.475Z"
   },
   {
    "duration": 57,
    "start_time": "2022-06-03T06:21:47.491Z"
   },
   {
    "duration": 25,
    "start_time": "2022-06-03T06:21:47.550Z"
   },
   {
    "duration": 5,
    "start_time": "2022-06-03T06:21:47.577Z"
   },
   {
    "duration": 14,
    "start_time": "2022-06-03T06:21:47.584Z"
   },
   {
    "duration": 33,
    "start_time": "2022-06-03T06:21:47.600Z"
   },
   {
    "duration": 40,
    "start_time": "2022-06-03T06:21:47.636Z"
   },
   {
    "duration": 28,
    "start_time": "2022-06-03T06:21:47.677Z"
   },
   {
    "duration": 24,
    "start_time": "2022-06-03T06:21:47.706Z"
   },
   {
    "duration": 21,
    "start_time": "2022-06-03T06:21:47.732Z"
   },
   {
    "duration": 25,
    "start_time": "2022-06-03T06:21:47.755Z"
   },
   {
    "duration": 63,
    "start_time": "2022-06-03T06:21:47.782Z"
   },
   {
    "duration": 29,
    "start_time": "2022-06-03T06:21:47.847Z"
   },
   {
    "duration": 5,
    "start_time": "2022-06-03T06:21:47.878Z"
   },
   {
    "duration": 6,
    "start_time": "2022-06-03T06:21:47.885Z"
   },
   {
    "duration": 38,
    "start_time": "2022-06-03T06:21:47.892Z"
   },
   {
    "duration": 15,
    "start_time": "2022-06-03T06:21:47.932Z"
   },
   {
    "duration": 16,
    "start_time": "2022-06-03T06:21:47.948Z"
   },
   {
    "duration": 65,
    "start_time": "2022-06-03T06:21:47.965Z"
   },
   {
    "duration": 105,
    "start_time": "2022-06-03T06:21:48.032Z"
   },
   {
    "duration": 195,
    "start_time": "2022-06-03T06:21:48.139Z"
   },
   {
    "duration": 197,
    "start_time": "2022-06-03T06:21:48.337Z"
   },
   {
    "duration": 17,
    "start_time": "2022-06-03T06:21:48.536Z"
   },
   {
    "duration": 15,
    "start_time": "2022-06-03T06:21:48.554Z"
   },
   {
    "duration": 5,
    "start_time": "2022-06-03T06:21:48.572Z"
   },
   {
    "duration": 4,
    "start_time": "2022-06-03T06:21:48.579Z"
   },
   {
    "duration": 47,
    "start_time": "2022-06-03T06:21:48.584Z"
   },
   {
    "duration": 9,
    "start_time": "2022-06-03T06:21:48.633Z"
   },
   {
    "duration": 17,
    "start_time": "2022-06-03T06:21:48.644Z"
   },
   {
    "duration": 112,
    "start_time": "2022-06-03T06:21:48.663Z"
   },
   {
    "duration": 0,
    "start_time": "2022-06-03T06:21:48.777Z"
   },
   {
    "duration": 0,
    "start_time": "2022-06-03T06:21:48.778Z"
   },
   {
    "duration": 0,
    "start_time": "2022-06-03T06:21:48.780Z"
   },
   {
    "duration": 0,
    "start_time": "2022-06-03T06:21:48.781Z"
   },
   {
    "duration": 0,
    "start_time": "2022-06-03T06:21:48.783Z"
   },
   {
    "duration": 6,
    "start_time": "2022-06-03T06:22:48.259Z"
   },
   {
    "duration": 13,
    "start_time": "2022-06-03T06:23:04.101Z"
   },
   {
    "duration": 7,
    "start_time": "2022-06-03T06:23:20.341Z"
   },
   {
    "duration": 6,
    "start_time": "2022-06-03T06:24:45.204Z"
   },
   {
    "duration": 4,
    "start_time": "2022-06-03T06:25:12.436Z"
   },
   {
    "duration": 13,
    "start_time": "2022-06-03T06:25:23.273Z"
   },
   {
    "duration": 5,
    "start_time": "2022-06-03T06:25:28.656Z"
   },
   {
    "duration": 7,
    "start_time": "2022-06-03T06:25:49.292Z"
   },
   {
    "duration": 6,
    "start_time": "2022-06-03T06:25:55.877Z"
   },
   {
    "duration": 6,
    "start_time": "2022-06-03T06:25:59.740Z"
   },
   {
    "duration": 1344,
    "start_time": "2022-06-03T06:28:12.173Z"
   },
   {
    "duration": 1243,
    "start_time": "2022-06-03T06:28:39.376Z"
   },
   {
    "duration": 1353,
    "start_time": "2022-06-03T06:29:13.876Z"
   },
   {
    "duration": 1267,
    "start_time": "2022-06-03T06:29:49.900Z"
   },
   {
    "duration": 38,
    "start_time": "2022-06-03T06:30:16.808Z"
   },
   {
    "duration": 1255,
    "start_time": "2022-06-03T06:30:57.795Z"
   },
   {
    "duration": 1463,
    "start_time": "2022-06-03T06:31:06.233Z"
   },
   {
    "duration": 1307,
    "start_time": "2022-06-03T06:31:52.387Z"
   },
   {
    "duration": 3,
    "start_time": "2022-06-03T06:32:30.949Z"
   },
   {
    "duration": 15,
    "start_time": "2022-06-03T06:32:33.577Z"
   },
   {
    "duration": 3,
    "start_time": "2022-06-03T06:33:16.930Z"
   },
   {
    "duration": 19,
    "start_time": "2022-06-03T06:33:18.948Z"
   },
   {
    "duration": 7,
    "start_time": "2022-06-03T06:33:46.081Z"
   },
   {
    "duration": 6,
    "start_time": "2022-06-03T06:34:24.329Z"
   },
   {
    "duration": 6,
    "start_time": "2022-06-03T06:34:32.971Z"
   },
   {
    "duration": 8,
    "start_time": "2022-06-03T06:34:46.974Z"
   },
   {
    "duration": 4,
    "start_time": "2022-06-03T06:35:17.041Z"
   },
   {
    "duration": 12,
    "start_time": "2022-06-03T06:35:19.764Z"
   },
   {
    "duration": 16,
    "start_time": "2022-06-03T06:35:59.347Z"
   },
   {
    "duration": 8,
    "start_time": "2022-06-03T06:36:07.881Z"
   },
   {
    "duration": 7,
    "start_time": "2022-06-03T06:36:15.337Z"
   },
   {
    "duration": 13,
    "start_time": "2022-06-03T06:37:06.746Z"
   },
   {
    "duration": 4,
    "start_time": "2022-06-03T06:37:43.079Z"
   },
   {
    "duration": 5,
    "start_time": "2022-06-03T06:37:56.681Z"
   },
   {
    "duration": 19,
    "start_time": "2022-06-03T06:38:02.886Z"
   },
   {
    "duration": 4,
    "start_time": "2022-06-03T06:38:28.930Z"
   },
   {
    "duration": 9,
    "start_time": "2022-06-03T06:38:30.785Z"
   },
   {
    "duration": 4,
    "start_time": "2022-06-03T06:38:40.094Z"
   },
   {
    "duration": 8,
    "start_time": "2022-06-03T06:38:42.179Z"
   },
   {
    "duration": 8,
    "start_time": "2022-06-03T06:38:42.681Z"
   },
   {
    "duration": 9,
    "start_time": "2022-06-03T06:39:11.331Z"
   },
   {
    "duration": 9,
    "start_time": "2022-06-03T06:39:12.712Z"
   },
   {
    "duration": 3,
    "start_time": "2022-06-03T06:39:50.931Z"
   },
   {
    "duration": 14,
    "start_time": "2022-06-03T06:42:54.433Z"
   },
   {
    "duration": 12,
    "start_time": "2022-06-03T06:43:22.078Z"
   },
   {
    "duration": 36,
    "start_time": "2022-06-03T06:43:31.869Z"
   },
   {
    "duration": 1303,
    "start_time": "2022-06-03T06:44:32.977Z"
   },
   {
    "duration": 907,
    "start_time": "2022-06-03T06:44:41.014Z"
   },
   {
    "duration": 363,
    "start_time": "2022-06-03T06:44:41.923Z"
   },
   {
    "duration": 74,
    "start_time": "2022-06-03T06:44:42.288Z"
   },
   {
    "duration": 17,
    "start_time": "2022-06-03T06:44:42.364Z"
   },
   {
    "duration": 82,
    "start_time": "2022-06-03T06:44:42.383Z"
   },
   {
    "duration": 27,
    "start_time": "2022-06-03T06:44:42.466Z"
   },
   {
    "duration": 6,
    "start_time": "2022-06-03T06:44:42.494Z"
   },
   {
    "duration": 31,
    "start_time": "2022-06-03T06:44:42.502Z"
   },
   {
    "duration": 18,
    "start_time": "2022-06-03T06:44:42.534Z"
   },
   {
    "duration": 40,
    "start_time": "2022-06-03T06:44:42.555Z"
   },
   {
    "duration": 51,
    "start_time": "2022-06-03T06:44:42.597Z"
   },
   {
    "duration": 5,
    "start_time": "2022-06-03T06:44:42.650Z"
   },
   {
    "duration": 19,
    "start_time": "2022-06-03T06:44:42.657Z"
   },
   {
    "duration": 23,
    "start_time": "2022-06-03T06:44:42.679Z"
   },
   {
    "duration": 68,
    "start_time": "2022-06-03T06:44:42.704Z"
   },
   {
    "duration": 28,
    "start_time": "2022-06-03T06:44:42.773Z"
   },
   {
    "duration": 28,
    "start_time": "2022-06-03T06:44:42.802Z"
   },
   {
    "duration": 12,
    "start_time": "2022-06-03T06:44:42.832Z"
   },
   {
    "duration": 27,
    "start_time": "2022-06-03T06:44:42.846Z"
   },
   {
    "duration": 17,
    "start_time": "2022-06-03T06:44:42.875Z"
   },
   {
    "duration": 15,
    "start_time": "2022-06-03T06:44:42.894Z"
   },
   {
    "duration": 31,
    "start_time": "2022-06-03T06:44:42.911Z"
   },
   {
    "duration": 184,
    "start_time": "2022-06-03T06:44:42.944Z"
   },
   {
    "duration": 110,
    "start_time": "2022-06-03T06:44:43.130Z"
   },
   {
    "duration": 198,
    "start_time": "2022-06-03T06:44:43.244Z"
   },
   {
    "duration": 15,
    "start_time": "2022-06-03T06:44:43.444Z"
   },
   {
    "duration": 19,
    "start_time": "2022-06-03T06:44:43.461Z"
   },
   {
    "duration": 4,
    "start_time": "2022-06-03T06:44:43.484Z"
   },
   {
    "duration": 37,
    "start_time": "2022-06-03T06:44:43.491Z"
   },
   {
    "duration": 16,
    "start_time": "2022-06-03T06:44:43.532Z"
   },
   {
    "duration": 19,
    "start_time": "2022-06-03T06:44:43.550Z"
   },
   {
    "duration": 9,
    "start_time": "2022-06-03T06:44:43.571Z"
   },
   {
    "duration": 4,
    "start_time": "2022-06-03T06:44:43.582Z"
   },
   {
    "duration": 117,
    "start_time": "2022-06-03T06:44:43.588Z"
   },
   {
    "duration": 0,
    "start_time": "2022-06-03T06:44:43.707Z"
   },
   {
    "duration": 0,
    "start_time": "2022-06-03T06:44:43.708Z"
   },
   {
    "duration": 0,
    "start_time": "2022-06-03T06:44:43.709Z"
   },
   {
    "duration": 0,
    "start_time": "2022-06-03T06:44:43.711Z"
   },
   {
    "duration": 1426,
    "start_time": "2022-06-03T06:45:15.578Z"
   },
   {
    "duration": 12,
    "start_time": "2022-06-03T06:45:32.447Z"
   },
   {
    "duration": 21,
    "start_time": "2022-06-03T06:45:59.605Z"
   },
   {
    "duration": 1256,
    "start_time": "2022-06-03T06:46:54.906Z"
   },
   {
    "duration": 1224,
    "start_time": "2022-06-03T06:48:27.926Z"
   },
   {
    "duration": 1278,
    "start_time": "2022-06-03T06:48:31.516Z"
   },
   {
    "duration": 1393,
    "start_time": "2022-06-03T06:49:13.254Z"
   },
   {
    "duration": 1334,
    "start_time": "2022-06-03T06:49:27.061Z"
   },
   {
    "duration": 1416,
    "start_time": "2022-06-03T06:49:33.132Z"
   },
   {
    "duration": 1311,
    "start_time": "2022-06-03T06:50:30.997Z"
   },
   {
    "duration": 1284,
    "start_time": "2022-06-03T06:52:52.036Z"
   },
   {
    "duration": 1626,
    "start_time": "2022-06-03T07:53:55.735Z"
   },
   {
    "duration": 5,
    "start_time": "2022-06-03T07:56:04.884Z"
   },
   {
    "duration": 1555,
    "start_time": "2022-06-03T07:57:10.764Z"
   },
   {
    "duration": 72,
    "start_time": "2022-06-03T09:55:24.789Z"
   },
   {
    "duration": 1107,
    "start_time": "2022-06-03T09:55:30.987Z"
   },
   {
    "duration": 1715,
    "start_time": "2022-06-03T09:55:32.097Z"
   },
   {
    "duration": 71,
    "start_time": "2022-06-03T09:55:33.814Z"
   },
   {
    "duration": 23,
    "start_time": "2022-06-03T09:55:33.887Z"
   },
   {
    "duration": 58,
    "start_time": "2022-06-03T09:55:33.912Z"
   },
   {
    "duration": 49,
    "start_time": "2022-06-03T09:55:33.972Z"
   },
   {
    "duration": 7,
    "start_time": "2022-06-03T09:55:34.024Z"
   },
   {
    "duration": 16,
    "start_time": "2022-06-03T09:55:34.033Z"
   },
   {
    "duration": 42,
    "start_time": "2022-06-03T09:55:34.052Z"
   },
   {
    "duration": 55,
    "start_time": "2022-06-03T09:55:34.098Z"
   },
   {
    "duration": 55,
    "start_time": "2022-06-03T09:55:34.155Z"
   },
   {
    "duration": 9,
    "start_time": "2022-06-03T09:55:34.212Z"
   },
   {
    "duration": 18,
    "start_time": "2022-06-03T09:55:34.223Z"
   },
   {
    "duration": 19,
    "start_time": "2022-06-03T09:55:34.242Z"
   },
   {
    "duration": 78,
    "start_time": "2022-06-03T09:55:34.263Z"
   },
   {
    "duration": 31,
    "start_time": "2022-06-03T09:55:34.343Z"
   },
   {
    "duration": 7,
    "start_time": "2022-06-03T09:55:34.390Z"
   },
   {
    "duration": 7,
    "start_time": "2022-06-03T09:55:34.399Z"
   },
   {
    "duration": 22,
    "start_time": "2022-06-03T09:55:34.408Z"
   },
   {
    "duration": 23,
    "start_time": "2022-06-03T09:55:34.432Z"
   },
   {
    "duration": 49,
    "start_time": "2022-06-03T09:55:34.457Z"
   },
   {
    "duration": 84,
    "start_time": "2022-06-03T09:55:34.509Z"
   },
   {
    "duration": 131,
    "start_time": "2022-06-03T09:55:34.595Z"
   },
   {
    "duration": 118,
    "start_time": "2022-06-03T09:55:34.789Z"
   },
   {
    "duration": 209,
    "start_time": "2022-06-03T09:55:34.909Z"
   },
   {
    "duration": 17,
    "start_time": "2022-06-03T09:55:35.120Z"
   },
   {
    "duration": 15,
    "start_time": "2022-06-03T09:55:35.139Z"
   },
   {
    "duration": 4,
    "start_time": "2022-06-03T09:55:35.158Z"
   },
   {
    "duration": 27,
    "start_time": "2022-06-03T09:55:35.163Z"
   },
   {
    "duration": 14,
    "start_time": "2022-06-03T09:55:35.192Z"
   },
   {
    "duration": 12,
    "start_time": "2022-06-03T09:55:35.208Z"
   },
   {
    "duration": 8,
    "start_time": "2022-06-03T09:55:35.222Z"
   },
   {
    "duration": 3,
    "start_time": "2022-06-03T09:55:35.232Z"
   },
   {
    "duration": 148,
    "start_time": "2022-06-03T09:55:35.236Z"
   },
   {
    "duration": 0,
    "start_time": "2022-06-03T09:55:35.389Z"
   },
   {
    "duration": 0,
    "start_time": "2022-06-03T09:55:35.391Z"
   },
   {
    "duration": 0,
    "start_time": "2022-06-03T09:55:35.392Z"
   },
   {
    "duration": 1638,
    "start_time": "2022-06-03T09:55:50.539Z"
   },
   {
    "duration": 1657,
    "start_time": "2022-06-03T09:56:02.077Z"
   },
   {
    "duration": 1637,
    "start_time": "2022-06-03T09:56:31.848Z"
   },
   {
    "duration": 1572,
    "start_time": "2022-06-03T09:56:46.877Z"
   },
   {
    "duration": 1553,
    "start_time": "2022-06-03T09:57:29.297Z"
   },
   {
    "duration": 1605,
    "start_time": "2022-06-03T09:57:47.178Z"
   },
   {
    "duration": 933,
    "start_time": "2022-06-03T10:03:06.492Z"
   },
   {
    "duration": 382,
    "start_time": "2022-06-03T10:03:07.427Z"
   },
   {
    "duration": 68,
    "start_time": "2022-06-03T10:03:07.811Z"
   },
   {
    "duration": 16,
    "start_time": "2022-06-03T10:03:07.890Z"
   },
   {
    "duration": 48,
    "start_time": "2022-06-03T10:03:07.907Z"
   },
   {
    "duration": 47,
    "start_time": "2022-06-03T10:03:07.956Z"
   },
   {
    "duration": 5,
    "start_time": "2022-06-03T10:03:08.005Z"
   },
   {
    "duration": 16,
    "start_time": "2022-06-03T10:03:08.012Z"
   },
   {
    "duration": 16,
    "start_time": "2022-06-03T10:03:08.030Z"
   },
   {
    "duration": 64,
    "start_time": "2022-06-03T10:03:08.049Z"
   },
   {
    "duration": 30,
    "start_time": "2022-06-03T10:03:08.114Z"
   },
   {
    "duration": 6,
    "start_time": "2022-06-03T10:03:08.145Z"
   },
   {
    "duration": 16,
    "start_time": "2022-06-03T10:03:08.152Z"
   },
   {
    "duration": 14,
    "start_time": "2022-06-03T10:03:08.189Z"
   },
   {
    "duration": 60,
    "start_time": "2022-06-03T10:03:08.205Z"
   },
   {
    "duration": 54,
    "start_time": "2022-06-03T10:03:08.267Z"
   },
   {
    "duration": 6,
    "start_time": "2022-06-03T10:03:08.323Z"
   },
   {
    "duration": 5,
    "start_time": "2022-06-03T10:03:08.332Z"
   },
   {
    "duration": 25,
    "start_time": "2022-06-03T10:03:08.339Z"
   },
   {
    "duration": 38,
    "start_time": "2022-06-03T10:03:08.367Z"
   },
   {
    "duration": 21,
    "start_time": "2022-06-03T10:03:08.407Z"
   },
   {
    "duration": 61,
    "start_time": "2022-06-03T10:03:08.431Z"
   },
   {
    "duration": 108,
    "start_time": "2022-06-03T10:03:08.496Z"
   },
   {
    "duration": 190,
    "start_time": "2022-06-03T10:03:08.605Z"
   },
   {
    "duration": 197,
    "start_time": "2022-06-03T10:03:08.797Z"
   },
   {
    "duration": 18,
    "start_time": "2022-06-03T10:03:08.996Z"
   },
   {
    "duration": 16,
    "start_time": "2022-06-03T10:03:09.016Z"
   },
   {
    "duration": 5,
    "start_time": "2022-06-03T10:03:09.035Z"
   },
   {
    "duration": 10,
    "start_time": "2022-06-03T10:03:09.041Z"
   },
   {
    "duration": 42,
    "start_time": "2022-06-03T10:03:09.052Z"
   },
   {
    "duration": 9,
    "start_time": "2022-06-03T10:03:09.095Z"
   },
   {
    "duration": 9,
    "start_time": "2022-06-03T10:03:09.106Z"
   },
   {
    "duration": 4,
    "start_time": "2022-06-03T10:03:09.116Z"
   },
   {
    "duration": 1480,
    "start_time": "2022-06-03T10:03:09.121Z"
   },
   {
    "duration": 1457,
    "start_time": "2022-06-03T10:03:10.602Z"
   },
   {
    "duration": 1476,
    "start_time": "2022-06-03T10:03:12.061Z"
   }
  ],
  "kernelspec": {
   "display_name": "Python 3 (ipykernel)",
   "language": "python",
   "name": "python3"
  },
  "language_info": {
   "codemirror_mode": {
    "name": "ipython",
    "version": 3
   },
   "file_extension": ".py",
   "mimetype": "text/x-python",
   "name": "python",
   "nbconvert_exporter": "python",
   "pygments_lexer": "ipython3",
   "version": "3.9.5"
  },
  "toc": {
   "base_numbering": 1,
   "nav_menu": {},
   "number_sections": true,
   "sideBar": true,
   "skip_h1_title": true,
   "title_cell": "Table of Contents",
   "title_sidebar": "Contents",
   "toc_cell": false,
   "toc_position": {},
   "toc_section_display": true,
   "toc_window_display": false
  }
 },
 "nbformat": 4,
 "nbformat_minor": 2
}
